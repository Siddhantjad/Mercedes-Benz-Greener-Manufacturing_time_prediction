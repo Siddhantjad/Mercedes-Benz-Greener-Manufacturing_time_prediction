{
 "cells": [
  {
   "cell_type": "markdown",
   "id": "de130e24",
   "metadata": {},
   "source": [
    "### Introduction:\n",
    "Mercedes known for their automotive innovations has a wide range of cars with customizable options for their customers. Before hitting the market the car needs to undergo a series of tests like safety, reliability and robustness of the components."
   ]
  },
  {
   "cell_type": "markdown",
   "id": "b5ea8b82",
   "metadata": {},
   "source": [
    "##### Business problem:\n",
    "The business problem here is to predict the amount of time that each car with a specific set of configurations will spend on the test bench. This is a regression problem that we need to solve since the target variable is a continuous variable."
   ]
  },
  {
   "cell_type": "markdown",
   "id": "2c7f77b3",
   "metadata": {},
   "source": [
    "IMPORT REQURIED LIBRARIES"
   ]
  },
  {
   "cell_type": "code",
   "execution_count": 2,
   "id": "9ec999c6",
   "metadata": {},
   "outputs": [],
   "source": [
    "import pandas as pd\n",
    "import numpy as np\n",
    "import matplotlib.pyplot as plt\n",
    "import seaborn as sns\n",
    "%matplotlib inline\n",
    "\n",
    "import warnings\n",
    "warnings.filterwarnings(\"ignore\")"
   ]
  },
  {
   "cell_type": "code",
   "execution_count": 3,
   "id": "5386dcb1",
   "metadata": {},
   "outputs": [],
   "source": [
    "df= pd.read_csv('train.csv')"
   ]
  },
  {
   "cell_type": "code",
   "execution_count": 4,
   "id": "e1641576",
   "metadata": {},
   "outputs": [
    {
     "data": {
      "text/html": [
       "<div>\n",
       "<style scoped>\n",
       "    .dataframe tbody tr th:only-of-type {\n",
       "        vertical-align: middle;\n",
       "    }\n",
       "\n",
       "    .dataframe tbody tr th {\n",
       "        vertical-align: top;\n",
       "    }\n",
       "\n",
       "    .dataframe thead th {\n",
       "        text-align: right;\n",
       "    }\n",
       "</style>\n",
       "<table border=\"1\" class=\"dataframe\">\n",
       "  <thead>\n",
       "    <tr style=\"text-align: right;\">\n",
       "      <th></th>\n",
       "      <th>ID</th>\n",
       "      <th>y</th>\n",
       "      <th>X0</th>\n",
       "      <th>X1</th>\n",
       "      <th>X2</th>\n",
       "      <th>X3</th>\n",
       "      <th>X4</th>\n",
       "      <th>X5</th>\n",
       "      <th>X6</th>\n",
       "      <th>X8</th>\n",
       "      <th>...</th>\n",
       "      <th>X375</th>\n",
       "      <th>X376</th>\n",
       "      <th>X377</th>\n",
       "      <th>X378</th>\n",
       "      <th>X379</th>\n",
       "      <th>X380</th>\n",
       "      <th>X382</th>\n",
       "      <th>X383</th>\n",
       "      <th>X384</th>\n",
       "      <th>X385</th>\n",
       "    </tr>\n",
       "  </thead>\n",
       "  <tbody>\n",
       "    <tr>\n",
       "      <th>0</th>\n",
       "      <td>0</td>\n",
       "      <td>130.81</td>\n",
       "      <td>k</td>\n",
       "      <td>v</td>\n",
       "      <td>at</td>\n",
       "      <td>a</td>\n",
       "      <td>d</td>\n",
       "      <td>u</td>\n",
       "      <td>j</td>\n",
       "      <td>o</td>\n",
       "      <td>...</td>\n",
       "      <td>0</td>\n",
       "      <td>0</td>\n",
       "      <td>1</td>\n",
       "      <td>0</td>\n",
       "      <td>0</td>\n",
       "      <td>0</td>\n",
       "      <td>0</td>\n",
       "      <td>0</td>\n",
       "      <td>0</td>\n",
       "      <td>0</td>\n",
       "    </tr>\n",
       "    <tr>\n",
       "      <th>1</th>\n",
       "      <td>6</td>\n",
       "      <td>88.53</td>\n",
       "      <td>k</td>\n",
       "      <td>t</td>\n",
       "      <td>av</td>\n",
       "      <td>e</td>\n",
       "      <td>d</td>\n",
       "      <td>y</td>\n",
       "      <td>l</td>\n",
       "      <td>o</td>\n",
       "      <td>...</td>\n",
       "      <td>1</td>\n",
       "      <td>0</td>\n",
       "      <td>0</td>\n",
       "      <td>0</td>\n",
       "      <td>0</td>\n",
       "      <td>0</td>\n",
       "      <td>0</td>\n",
       "      <td>0</td>\n",
       "      <td>0</td>\n",
       "      <td>0</td>\n",
       "    </tr>\n",
       "    <tr>\n",
       "      <th>2</th>\n",
       "      <td>7</td>\n",
       "      <td>76.26</td>\n",
       "      <td>az</td>\n",
       "      <td>w</td>\n",
       "      <td>n</td>\n",
       "      <td>c</td>\n",
       "      <td>d</td>\n",
       "      <td>x</td>\n",
       "      <td>j</td>\n",
       "      <td>x</td>\n",
       "      <td>...</td>\n",
       "      <td>0</td>\n",
       "      <td>0</td>\n",
       "      <td>0</td>\n",
       "      <td>0</td>\n",
       "      <td>0</td>\n",
       "      <td>0</td>\n",
       "      <td>1</td>\n",
       "      <td>0</td>\n",
       "      <td>0</td>\n",
       "      <td>0</td>\n",
       "    </tr>\n",
       "    <tr>\n",
       "      <th>3</th>\n",
       "      <td>9</td>\n",
       "      <td>80.62</td>\n",
       "      <td>az</td>\n",
       "      <td>t</td>\n",
       "      <td>n</td>\n",
       "      <td>f</td>\n",
       "      <td>d</td>\n",
       "      <td>x</td>\n",
       "      <td>l</td>\n",
       "      <td>e</td>\n",
       "      <td>...</td>\n",
       "      <td>0</td>\n",
       "      <td>0</td>\n",
       "      <td>0</td>\n",
       "      <td>0</td>\n",
       "      <td>0</td>\n",
       "      <td>0</td>\n",
       "      <td>0</td>\n",
       "      <td>0</td>\n",
       "      <td>0</td>\n",
       "      <td>0</td>\n",
       "    </tr>\n",
       "    <tr>\n",
       "      <th>4</th>\n",
       "      <td>13</td>\n",
       "      <td>78.02</td>\n",
       "      <td>az</td>\n",
       "      <td>v</td>\n",
       "      <td>n</td>\n",
       "      <td>f</td>\n",
       "      <td>d</td>\n",
       "      <td>h</td>\n",
       "      <td>d</td>\n",
       "      <td>n</td>\n",
       "      <td>...</td>\n",
       "      <td>0</td>\n",
       "      <td>0</td>\n",
       "      <td>0</td>\n",
       "      <td>0</td>\n",
       "      <td>0</td>\n",
       "      <td>0</td>\n",
       "      <td>0</td>\n",
       "      <td>0</td>\n",
       "      <td>0</td>\n",
       "      <td>0</td>\n",
       "    </tr>\n",
       "  </tbody>\n",
       "</table>\n",
       "<p>5 rows × 378 columns</p>\n",
       "</div>"
      ],
      "text/plain": [
       "   ID       y  X0 X1  X2 X3 X4 X5 X6 X8  ...  X375  X376  X377  X378  X379  \\\n",
       "0   0  130.81   k  v  at  a  d  u  j  o  ...     0     0     1     0     0   \n",
       "1   6   88.53   k  t  av  e  d  y  l  o  ...     1     0     0     0     0   \n",
       "2   7   76.26  az  w   n  c  d  x  j  x  ...     0     0     0     0     0   \n",
       "3   9   80.62  az  t   n  f  d  x  l  e  ...     0     0     0     0     0   \n",
       "4  13   78.02  az  v   n  f  d  h  d  n  ...     0     0     0     0     0   \n",
       "\n",
       "   X380  X382  X383  X384  X385  \n",
       "0     0     0     0     0     0  \n",
       "1     0     0     0     0     0  \n",
       "2     0     1     0     0     0  \n",
       "3     0     0     0     0     0  \n",
       "4     0     0     0     0     0  \n",
       "\n",
       "[5 rows x 378 columns]"
      ]
     },
     "execution_count": 4,
     "metadata": {},
     "output_type": "execute_result"
    }
   ],
   "source": [
    "df.head()"
   ]
  },
  {
   "cell_type": "code",
   "execution_count": 5,
   "id": "56c0bdae",
   "metadata": {},
   "outputs": [
    {
     "data": {
      "text/plain": [
       "<bound method DataFrame.info of         ID       y  X0 X1  X2 X3 X4  X5 X6 X8  ...  X375  X376  X377  X378  \\\n",
       "0        0  130.81   k  v  at  a  d   u  j  o  ...     0     0     1     0   \n",
       "1        6   88.53   k  t  av  e  d   y  l  o  ...     1     0     0     0   \n",
       "2        7   76.26  az  w   n  c  d   x  j  x  ...     0     0     0     0   \n",
       "3        9   80.62  az  t   n  f  d   x  l  e  ...     0     0     0     0   \n",
       "4       13   78.02  az  v   n  f  d   h  d  n  ...     0     0     0     0   \n",
       "...    ...     ...  .. ..  .. .. ..  .. .. ..  ...   ...   ...   ...   ...   \n",
       "4204  8405  107.39  ak  s  as  c  d  aa  d  q  ...     1     0     0     0   \n",
       "4205  8406  108.77   j  o   t  d  d  aa  h  h  ...     0     1     0     0   \n",
       "4206  8412  109.22  ak  v   r  a  d  aa  g  e  ...     0     0     1     0   \n",
       "4207  8415   87.48  al  r   e  f  d  aa  l  u  ...     0     0     0     0   \n",
       "4208  8417  110.85   z  r  ae  c  d  aa  g  w  ...     1     0     0     0   \n",
       "\n",
       "      X379  X380  X382  X383  X384  X385  \n",
       "0        0     0     0     0     0     0  \n",
       "1        0     0     0     0     0     0  \n",
       "2        0     0     1     0     0     0  \n",
       "3        0     0     0     0     0     0  \n",
       "4        0     0     0     0     0     0  \n",
       "...    ...   ...   ...   ...   ...   ...  \n",
       "4204     0     0     0     0     0     0  \n",
       "4205     0     0     0     0     0     0  \n",
       "4206     0     0     0     0     0     0  \n",
       "4207     0     0     0     0     0     0  \n",
       "4208     0     0     0     0     0     0  \n",
       "\n",
       "[4209 rows x 378 columns]>"
      ]
     },
     "execution_count": 5,
     "metadata": {},
     "output_type": "execute_result"
    }
   ],
   "source": [
    "df.info"
   ]
  },
  {
   "cell_type": "code",
   "execution_count": 6,
   "id": "9097d80e",
   "metadata": {},
   "outputs": [
    {
     "data": {
      "text/html": [
       "<div>\n",
       "<style scoped>\n",
       "    .dataframe tbody tr th:only-of-type {\n",
       "        vertical-align: middle;\n",
       "    }\n",
       "\n",
       "    .dataframe tbody tr th {\n",
       "        vertical-align: top;\n",
       "    }\n",
       "\n",
       "    .dataframe thead th {\n",
       "        text-align: right;\n",
       "    }\n",
       "</style>\n",
       "<table border=\"1\" class=\"dataframe\">\n",
       "  <thead>\n",
       "    <tr style=\"text-align: right;\">\n",
       "      <th></th>\n",
       "      <th>ID</th>\n",
       "      <th>y</th>\n",
       "      <th>X10</th>\n",
       "      <th>X11</th>\n",
       "      <th>X12</th>\n",
       "      <th>X13</th>\n",
       "      <th>X14</th>\n",
       "      <th>X15</th>\n",
       "      <th>X16</th>\n",
       "      <th>X17</th>\n",
       "      <th>...</th>\n",
       "      <th>X375</th>\n",
       "      <th>X376</th>\n",
       "      <th>X377</th>\n",
       "      <th>X378</th>\n",
       "      <th>X379</th>\n",
       "      <th>X380</th>\n",
       "      <th>X382</th>\n",
       "      <th>X383</th>\n",
       "      <th>X384</th>\n",
       "      <th>X385</th>\n",
       "    </tr>\n",
       "  </thead>\n",
       "  <tbody>\n",
       "    <tr>\n",
       "      <th>count</th>\n",
       "      <td>4209.000000</td>\n",
       "      <td>4209.000000</td>\n",
       "      <td>4209.000000</td>\n",
       "      <td>4209.0</td>\n",
       "      <td>4209.000000</td>\n",
       "      <td>4209.000000</td>\n",
       "      <td>4209.000000</td>\n",
       "      <td>4209.000000</td>\n",
       "      <td>4209.000000</td>\n",
       "      <td>4209.000000</td>\n",
       "      <td>...</td>\n",
       "      <td>4209.000000</td>\n",
       "      <td>4209.000000</td>\n",
       "      <td>4209.000000</td>\n",
       "      <td>4209.000000</td>\n",
       "      <td>4209.000000</td>\n",
       "      <td>4209.000000</td>\n",
       "      <td>4209.000000</td>\n",
       "      <td>4209.000000</td>\n",
       "      <td>4209.000000</td>\n",
       "      <td>4209.000000</td>\n",
       "    </tr>\n",
       "    <tr>\n",
       "      <th>mean</th>\n",
       "      <td>4205.960798</td>\n",
       "      <td>100.669318</td>\n",
       "      <td>0.013305</td>\n",
       "      <td>0.0</td>\n",
       "      <td>0.075077</td>\n",
       "      <td>0.057971</td>\n",
       "      <td>0.428130</td>\n",
       "      <td>0.000475</td>\n",
       "      <td>0.002613</td>\n",
       "      <td>0.007603</td>\n",
       "      <td>...</td>\n",
       "      <td>0.318841</td>\n",
       "      <td>0.057258</td>\n",
       "      <td>0.314802</td>\n",
       "      <td>0.020670</td>\n",
       "      <td>0.009503</td>\n",
       "      <td>0.008078</td>\n",
       "      <td>0.007603</td>\n",
       "      <td>0.001663</td>\n",
       "      <td>0.000475</td>\n",
       "      <td>0.001426</td>\n",
       "    </tr>\n",
       "    <tr>\n",
       "      <th>std</th>\n",
       "      <td>2437.608688</td>\n",
       "      <td>12.679381</td>\n",
       "      <td>0.114590</td>\n",
       "      <td>0.0</td>\n",
       "      <td>0.263547</td>\n",
       "      <td>0.233716</td>\n",
       "      <td>0.494867</td>\n",
       "      <td>0.021796</td>\n",
       "      <td>0.051061</td>\n",
       "      <td>0.086872</td>\n",
       "      <td>...</td>\n",
       "      <td>0.466082</td>\n",
       "      <td>0.232363</td>\n",
       "      <td>0.464492</td>\n",
       "      <td>0.142294</td>\n",
       "      <td>0.097033</td>\n",
       "      <td>0.089524</td>\n",
       "      <td>0.086872</td>\n",
       "      <td>0.040752</td>\n",
       "      <td>0.021796</td>\n",
       "      <td>0.037734</td>\n",
       "    </tr>\n",
       "    <tr>\n",
       "      <th>min</th>\n",
       "      <td>0.000000</td>\n",
       "      <td>72.110000</td>\n",
       "      <td>0.000000</td>\n",
       "      <td>0.0</td>\n",
       "      <td>0.000000</td>\n",
       "      <td>0.000000</td>\n",
       "      <td>0.000000</td>\n",
       "      <td>0.000000</td>\n",
       "      <td>0.000000</td>\n",
       "      <td>0.000000</td>\n",
       "      <td>...</td>\n",
       "      <td>0.000000</td>\n",
       "      <td>0.000000</td>\n",
       "      <td>0.000000</td>\n",
       "      <td>0.000000</td>\n",
       "      <td>0.000000</td>\n",
       "      <td>0.000000</td>\n",
       "      <td>0.000000</td>\n",
       "      <td>0.000000</td>\n",
       "      <td>0.000000</td>\n",
       "      <td>0.000000</td>\n",
       "    </tr>\n",
       "    <tr>\n",
       "      <th>25%</th>\n",
       "      <td>2095.000000</td>\n",
       "      <td>90.820000</td>\n",
       "      <td>0.000000</td>\n",
       "      <td>0.0</td>\n",
       "      <td>0.000000</td>\n",
       "      <td>0.000000</td>\n",
       "      <td>0.000000</td>\n",
       "      <td>0.000000</td>\n",
       "      <td>0.000000</td>\n",
       "      <td>0.000000</td>\n",
       "      <td>...</td>\n",
       "      <td>0.000000</td>\n",
       "      <td>0.000000</td>\n",
       "      <td>0.000000</td>\n",
       "      <td>0.000000</td>\n",
       "      <td>0.000000</td>\n",
       "      <td>0.000000</td>\n",
       "      <td>0.000000</td>\n",
       "      <td>0.000000</td>\n",
       "      <td>0.000000</td>\n",
       "      <td>0.000000</td>\n",
       "    </tr>\n",
       "    <tr>\n",
       "      <th>50%</th>\n",
       "      <td>4220.000000</td>\n",
       "      <td>99.150000</td>\n",
       "      <td>0.000000</td>\n",
       "      <td>0.0</td>\n",
       "      <td>0.000000</td>\n",
       "      <td>0.000000</td>\n",
       "      <td>0.000000</td>\n",
       "      <td>0.000000</td>\n",
       "      <td>0.000000</td>\n",
       "      <td>0.000000</td>\n",
       "      <td>...</td>\n",
       "      <td>0.000000</td>\n",
       "      <td>0.000000</td>\n",
       "      <td>0.000000</td>\n",
       "      <td>0.000000</td>\n",
       "      <td>0.000000</td>\n",
       "      <td>0.000000</td>\n",
       "      <td>0.000000</td>\n",
       "      <td>0.000000</td>\n",
       "      <td>0.000000</td>\n",
       "      <td>0.000000</td>\n",
       "    </tr>\n",
       "    <tr>\n",
       "      <th>75%</th>\n",
       "      <td>6314.000000</td>\n",
       "      <td>109.010000</td>\n",
       "      <td>0.000000</td>\n",
       "      <td>0.0</td>\n",
       "      <td>0.000000</td>\n",
       "      <td>0.000000</td>\n",
       "      <td>1.000000</td>\n",
       "      <td>0.000000</td>\n",
       "      <td>0.000000</td>\n",
       "      <td>0.000000</td>\n",
       "      <td>...</td>\n",
       "      <td>1.000000</td>\n",
       "      <td>0.000000</td>\n",
       "      <td>1.000000</td>\n",
       "      <td>0.000000</td>\n",
       "      <td>0.000000</td>\n",
       "      <td>0.000000</td>\n",
       "      <td>0.000000</td>\n",
       "      <td>0.000000</td>\n",
       "      <td>0.000000</td>\n",
       "      <td>0.000000</td>\n",
       "    </tr>\n",
       "    <tr>\n",
       "      <th>max</th>\n",
       "      <td>8417.000000</td>\n",
       "      <td>265.320000</td>\n",
       "      <td>1.000000</td>\n",
       "      <td>0.0</td>\n",
       "      <td>1.000000</td>\n",
       "      <td>1.000000</td>\n",
       "      <td>1.000000</td>\n",
       "      <td>1.000000</td>\n",
       "      <td>1.000000</td>\n",
       "      <td>1.000000</td>\n",
       "      <td>...</td>\n",
       "      <td>1.000000</td>\n",
       "      <td>1.000000</td>\n",
       "      <td>1.000000</td>\n",
       "      <td>1.000000</td>\n",
       "      <td>1.000000</td>\n",
       "      <td>1.000000</td>\n",
       "      <td>1.000000</td>\n",
       "      <td>1.000000</td>\n",
       "      <td>1.000000</td>\n",
       "      <td>1.000000</td>\n",
       "    </tr>\n",
       "  </tbody>\n",
       "</table>\n",
       "<p>8 rows × 370 columns</p>\n",
       "</div>"
      ],
      "text/plain": [
       "                ID            y          X10     X11          X12  \\\n",
       "count  4209.000000  4209.000000  4209.000000  4209.0  4209.000000   \n",
       "mean   4205.960798   100.669318     0.013305     0.0     0.075077   \n",
       "std    2437.608688    12.679381     0.114590     0.0     0.263547   \n",
       "min       0.000000    72.110000     0.000000     0.0     0.000000   \n",
       "25%    2095.000000    90.820000     0.000000     0.0     0.000000   \n",
       "50%    4220.000000    99.150000     0.000000     0.0     0.000000   \n",
       "75%    6314.000000   109.010000     0.000000     0.0     0.000000   \n",
       "max    8417.000000   265.320000     1.000000     0.0     1.000000   \n",
       "\n",
       "               X13          X14          X15          X16          X17  ...  \\\n",
       "count  4209.000000  4209.000000  4209.000000  4209.000000  4209.000000  ...   \n",
       "mean      0.057971     0.428130     0.000475     0.002613     0.007603  ...   \n",
       "std       0.233716     0.494867     0.021796     0.051061     0.086872  ...   \n",
       "min       0.000000     0.000000     0.000000     0.000000     0.000000  ...   \n",
       "25%       0.000000     0.000000     0.000000     0.000000     0.000000  ...   \n",
       "50%       0.000000     0.000000     0.000000     0.000000     0.000000  ...   \n",
       "75%       0.000000     1.000000     0.000000     0.000000     0.000000  ...   \n",
       "max       1.000000     1.000000     1.000000     1.000000     1.000000  ...   \n",
       "\n",
       "              X375         X376         X377         X378         X379  \\\n",
       "count  4209.000000  4209.000000  4209.000000  4209.000000  4209.000000   \n",
       "mean      0.318841     0.057258     0.314802     0.020670     0.009503   \n",
       "std       0.466082     0.232363     0.464492     0.142294     0.097033   \n",
       "min       0.000000     0.000000     0.000000     0.000000     0.000000   \n",
       "25%       0.000000     0.000000     0.000000     0.000000     0.000000   \n",
       "50%       0.000000     0.000000     0.000000     0.000000     0.000000   \n",
       "75%       1.000000     0.000000     1.000000     0.000000     0.000000   \n",
       "max       1.000000     1.000000     1.000000     1.000000     1.000000   \n",
       "\n",
       "              X380         X382         X383         X384         X385  \n",
       "count  4209.000000  4209.000000  4209.000000  4209.000000  4209.000000  \n",
       "mean      0.008078     0.007603     0.001663     0.000475     0.001426  \n",
       "std       0.089524     0.086872     0.040752     0.021796     0.037734  \n",
       "min       0.000000     0.000000     0.000000     0.000000     0.000000  \n",
       "25%       0.000000     0.000000     0.000000     0.000000     0.000000  \n",
       "50%       0.000000     0.000000     0.000000     0.000000     0.000000  \n",
       "75%       0.000000     0.000000     0.000000     0.000000     0.000000  \n",
       "max       1.000000     1.000000     1.000000     1.000000     1.000000  \n",
       "\n",
       "[8 rows x 370 columns]"
      ]
     },
     "execution_count": 6,
     "metadata": {},
     "output_type": "execute_result"
    }
   ],
   "source": [
    "df.describe()"
   ]
  },
  {
   "cell_type": "markdown",
   "id": "43b6006a",
   "metadata": {},
   "source": [
    "### Missing Values"
   ]
  },
  {
   "cell_type": "code",
   "execution_count": 7,
   "id": "14f25ba4",
   "metadata": {},
   "outputs": [
    {
     "data": {
      "text/plain": [
       "0"
      ]
     },
     "execution_count": 7,
     "metadata": {},
     "output_type": "execute_result"
    }
   ],
   "source": [
    "df.isnull().sum().sum()"
   ]
  },
  {
   "cell_type": "markdown",
   "id": "c08fe33e",
   "metadata": {},
   "source": [
    "#### As this is the data of one of the world renowed luxuary Car Brand, So it knows the value of data so i guess no missing values record is kept."
   ]
  },
  {
   "cell_type": "markdown",
   "id": "9fe11330",
   "metadata": {},
   "source": [
    "### Exploratory Data Analysis"
   ]
  },
  {
   "cell_type": "code",
   "execution_count": 8,
   "id": "af8ff483",
   "metadata": {},
   "outputs": [
    {
     "data": {
      "text/plain": [
       "<AxesSubplot:>"
      ]
     },
     "execution_count": 8,
     "metadata": {},
     "output_type": "execute_result"
    },
    {
     "data": {
      "image/png": "[encoded data removed]",
      "text/plain": [
       "<Figure size 432x288 with 1 Axes>"
      ]
     },
     "metadata": {
      "needs_background": "light"
     },
     "output_type": "display_data"
    }
   ],
   "source": [
    "df.y.plot()"
   ]
  },
  {
   "cell_type": "code",
   "execution_count": 9,
   "id": "998824b7",
   "metadata": {},
   "outputs": [
    {
     "data": {
      "text/plain": [
       "<AxesSubplot:xlabel='y', ylabel='Density'>"
      ]
     },
     "execution_count": 9,
     "metadata": {},
     "output_type": "execute_result"
    },
    {
     "data": {
      "image/png": "[encoded data removed]",
      "text/plain": [
       "<Figure size 576x432 with 1 Axes>"
      ]
     },
     "metadata": {
      "needs_background": "light"
     },
     "output_type": "display_data"
    }
   ],
   "source": [
    "plt.figure(figsize=(8,6))\n",
    "sns.distplot(df.y)"
   ]
  },
  {
   "cell_type": "code",
   "execution_count": 10,
   "id": "4801989e",
   "metadata": {},
   "outputs": [
    {
     "data": {
      "text/plain": [
       "<AxesSubplot:xlabel='y'>"
      ]
     },
     "execution_count": 10,
     "metadata": {},
     "output_type": "execute_result"
    },
    {
     "data": {
      "image/png": "[encoded data removed]",
      "text/plain": [
       "<Figure size 432x288 with 1 Axes>"
      ]
     },
     "metadata": {
      "needs_background": "light"
     },
     "output_type": "display_data"
    }
   ],
   "source": [
    "sns.boxplot(df.y)"
   ]
  },
  {
   "cell_type": "markdown",
   "id": "028a6d09",
   "metadata": {},
   "source": [
    "Only One Point Greater than 200 seems to be outlier lets remove it"
   ]
  },
  {
   "cell_type": "code",
   "execution_count": 11,
   "id": "cade8122",
   "metadata": {},
   "outputs": [],
   "source": [
    "df.drop(df[df.y > 200].index, inplace = True)"
   ]
  },
  {
   "cell_type": "markdown",
   "id": "2f30a935",
   "metadata": {},
   "source": [
    "### Now lets us have look at data types "
   ]
  },
  {
   "cell_type": "code",
   "execution_count": 12,
   "id": "c697042f",
   "metadata": {},
   "outputs": [
    {
     "data": {
      "text/html": [
       "<div>\n",
       "<style scoped>\n",
       "    .dataframe tbody tr th:only-of-type {\n",
       "        vertical-align: middle;\n",
       "    }\n",
       "\n",
       "    .dataframe tbody tr th {\n",
       "        vertical-align: top;\n",
       "    }\n",
       "\n",
       "    .dataframe thead th {\n",
       "        text-align: right;\n",
       "    }\n",
       "</style>\n",
       "<table border=\"1\" class=\"dataframe\">\n",
       "  <thead>\n",
       "    <tr style=\"text-align: right;\">\n",
       "      <th></th>\n",
       "      <th>column_type</th>\n",
       "      <th>count</th>\n",
       "    </tr>\n",
       "  </thead>\n",
       "  <tbody>\n",
       "    <tr>\n",
       "      <th>0</th>\n",
       "      <td>int64</td>\n",
       "      <td>369</td>\n",
       "    </tr>\n",
       "    <tr>\n",
       "      <th>1</th>\n",
       "      <td>float64</td>\n",
       "      <td>1</td>\n",
       "    </tr>\n",
       "    <tr>\n",
       "      <th>2</th>\n",
       "      <td>object</td>\n",
       "      <td>8</td>\n",
       "    </tr>\n",
       "  </tbody>\n",
       "</table>\n",
       "</div>"
      ],
      "text/plain": [
       "  column_type  count\n",
       "0       int64    369\n",
       "1     float64      1\n",
       "2      object      8"
      ]
     },
     "execution_count": 12,
     "metadata": {},
     "output_type": "execute_result"
    }
   ],
   "source": [
    "dtype_df = df.dtypes.reset_index()\n",
    "dtype_df.columns = ['count', 'column_type']\n",
    "dtype_df.groupby('column_type').aggregate('count').reset_index()"
   ]
  },
  {
   "cell_type": "markdown",
   "id": "98046100",
   "metadata": {},
   "source": [
    "There is 369 integet columns, 8 categorical columns, and 1 float column"
   ]
  },
  {
   "cell_type": "code",
   "execution_count": 13,
   "id": "d4253630",
   "metadata": {},
   "outputs": [
    {
     "data": {
      "text/html": [
       "<div>\n",
       "<style scoped>\n",
       "    .dataframe tbody tr th:only-of-type {\n",
       "        vertical-align: middle;\n",
       "    }\n",
       "\n",
       "    .dataframe tbody tr th {\n",
       "        vertical-align: top;\n",
       "    }\n",
       "\n",
       "    .dataframe thead th {\n",
       "        text-align: right;\n",
       "    }\n",
       "</style>\n",
       "<table border=\"1\" class=\"dataframe\">\n",
       "  <thead>\n",
       "    <tr style=\"text-align: right;\">\n",
       "      <th></th>\n",
       "      <th>count</th>\n",
       "      <th>column_type</th>\n",
       "    </tr>\n",
       "  </thead>\n",
       "  <tbody>\n",
       "    <tr>\n",
       "      <th>0</th>\n",
       "      <td>ID</td>\n",
       "      <td>int64</td>\n",
       "    </tr>\n",
       "    <tr>\n",
       "      <th>1</th>\n",
       "      <td>y</td>\n",
       "      <td>float64</td>\n",
       "    </tr>\n",
       "    <tr>\n",
       "      <th>2</th>\n",
       "      <td>X0</td>\n",
       "      <td>object</td>\n",
       "    </tr>\n",
       "    <tr>\n",
       "      <th>3</th>\n",
       "      <td>X1</td>\n",
       "      <td>object</td>\n",
       "    </tr>\n",
       "    <tr>\n",
       "      <th>4</th>\n",
       "      <td>X2</td>\n",
       "      <td>object</td>\n",
       "    </tr>\n",
       "    <tr>\n",
       "      <th>5</th>\n",
       "      <td>X3</td>\n",
       "      <td>object</td>\n",
       "    </tr>\n",
       "    <tr>\n",
       "      <th>6</th>\n",
       "      <td>X4</td>\n",
       "      <td>object</td>\n",
       "    </tr>\n",
       "    <tr>\n",
       "      <th>7</th>\n",
       "      <td>X5</td>\n",
       "      <td>object</td>\n",
       "    </tr>\n",
       "    <tr>\n",
       "      <th>8</th>\n",
       "      <td>X6</td>\n",
       "      <td>object</td>\n",
       "    </tr>\n",
       "    <tr>\n",
       "      <th>9</th>\n",
       "      <td>X8</td>\n",
       "      <td>object</td>\n",
       "    </tr>\n",
       "    <tr>\n",
       "      <th>10</th>\n",
       "      <td>X10</td>\n",
       "      <td>int64</td>\n",
       "    </tr>\n",
       "  </tbody>\n",
       "</table>\n",
       "</div>"
      ],
      "text/plain": [
       "   count column_type\n",
       "0     ID       int64\n",
       "1      y     float64\n",
       "2     X0      object\n",
       "3     X1      object\n",
       "4     X2      object\n",
       "5     X3      object\n",
       "6     X4      object\n",
       "7     X5      object\n",
       "8     X6      object\n",
       "9     X8      object\n",
       "10   X10       int64"
      ]
     },
     "execution_count": 13,
     "metadata": {},
     "output_type": "execute_result"
    }
   ],
   "source": [
    "dtype_df.iloc[:11,:]"
   ]
  },
  {
   "cell_type": "markdown",
   "id": "f91e7b23",
   "metadata": {},
   "source": [
    "### Analysis of categorical columns"
   ]
  },
  {
   "cell_type": "code",
   "execution_count": 14,
   "id": "22c0e98f",
   "metadata": {},
   "outputs": [
    {
     "data": {
      "text/plain": [
       "['X0', 'X1', 'X2', 'X3', 'X4', 'X5', 'X6', 'X8']"
      ]
     },
     "execution_count": 14,
     "metadata": {},
     "output_type": "execute_result"
    }
   ],
   "source": [
    "catagorical = df.select_dtypes(include=['object']).columns.to_list()\n",
    "catagorical"
   ]
  },
  {
   "cell_type": "code",
   "execution_count": 15,
   "id": "ee223d7a",
   "metadata": {},
   "outputs": [
    {
     "data": {
      "text/plain": [
       "369"
      ]
     },
     "execution_count": 15,
     "metadata": {},
     "output_type": "execute_result"
    }
   ],
   "source": [
    "integer = df.select_dtypes(include=['int']).columns.to_list()\n",
    "len(integer)"
   ]
  },
  {
   "cell_type": "code",
   "execution_count": 16,
   "id": "7acd5745",
   "metadata": {},
   "outputs": [
    {
     "data": {
      "text/html": [
       "<div>\n",
       "<style scoped>\n",
       "    .dataframe tbody tr th:only-of-type {\n",
       "        vertical-align: middle;\n",
       "    }\n",
       "\n",
       "    .dataframe tbody tr th {\n",
       "        vertical-align: top;\n",
       "    }\n",
       "\n",
       "    .dataframe thead th {\n",
       "        text-align: right;\n",
       "    }\n",
       "</style>\n",
       "<table border=\"1\" class=\"dataframe\">\n",
       "  <thead>\n",
       "    <tr style=\"text-align: right;\">\n",
       "      <th></th>\n",
       "      <th>ID</th>\n",
       "      <th>y</th>\n",
       "      <th>X0</th>\n",
       "      <th>X1</th>\n",
       "      <th>X2</th>\n",
       "      <th>X3</th>\n",
       "      <th>X4</th>\n",
       "      <th>X5</th>\n",
       "      <th>X6</th>\n",
       "      <th>X8</th>\n",
       "      <th>...</th>\n",
       "      <th>X375</th>\n",
       "      <th>X376</th>\n",
       "      <th>X377</th>\n",
       "      <th>X378</th>\n",
       "      <th>X379</th>\n",
       "      <th>X380</th>\n",
       "      <th>X382</th>\n",
       "      <th>X383</th>\n",
       "      <th>X384</th>\n",
       "      <th>X385</th>\n",
       "    </tr>\n",
       "  </thead>\n",
       "  <tbody>\n",
       "    <tr>\n",
       "      <th>0</th>\n",
       "      <td>0</td>\n",
       "      <td>130.81</td>\n",
       "      <td>k</td>\n",
       "      <td>v</td>\n",
       "      <td>at</td>\n",
       "      <td>a</td>\n",
       "      <td>d</td>\n",
       "      <td>u</td>\n",
       "      <td>j</td>\n",
       "      <td>o</td>\n",
       "      <td>...</td>\n",
       "      <td>0</td>\n",
       "      <td>0</td>\n",
       "      <td>1</td>\n",
       "      <td>0</td>\n",
       "      <td>0</td>\n",
       "      <td>0</td>\n",
       "      <td>0</td>\n",
       "      <td>0</td>\n",
       "      <td>0</td>\n",
       "      <td>0</td>\n",
       "    </tr>\n",
       "    <tr>\n",
       "      <th>1</th>\n",
       "      <td>6</td>\n",
       "      <td>88.53</td>\n",
       "      <td>k</td>\n",
       "      <td>t</td>\n",
       "      <td>av</td>\n",
       "      <td>e</td>\n",
       "      <td>d</td>\n",
       "      <td>y</td>\n",
       "      <td>l</td>\n",
       "      <td>o</td>\n",
       "      <td>...</td>\n",
       "      <td>1</td>\n",
       "      <td>0</td>\n",
       "      <td>0</td>\n",
       "      <td>0</td>\n",
       "      <td>0</td>\n",
       "      <td>0</td>\n",
       "      <td>0</td>\n",
       "      <td>0</td>\n",
       "      <td>0</td>\n",
       "      <td>0</td>\n",
       "    </tr>\n",
       "  </tbody>\n",
       "</table>\n",
       "<p>2 rows × 378 columns</p>\n",
       "</div>"
      ],
      "text/plain": [
       "   ID       y X0 X1  X2 X3 X4 X5 X6 X8  ...  X375  X376  X377  X378  X379  \\\n",
       "0   0  130.81  k  v  at  a  d  u  j  o  ...     0     0     1     0     0   \n",
       "1   6   88.53  k  t  av  e  d  y  l  o  ...     1     0     0     0     0   \n",
       "\n",
       "   X380  X382  X383  X384  X385  \n",
       "0     0     0     0     0     0  \n",
       "1     0     0     0     0     0  \n",
       "\n",
       "[2 rows x 378 columns]"
      ]
     },
     "execution_count": 16,
     "metadata": {},
     "output_type": "execute_result"
    }
   ],
   "source": [
    "df.head(2)"
   ]
  },
  {
   "cell_type": "code",
   "execution_count": 17,
   "id": "4821af76",
   "metadata": {},
   "outputs": [
    {
     "data": {
      "text/plain": [
       "<AxesSubplot:xlabel='X0', ylabel='y'>"
      ]
     },
     "execution_count": 17,
     "metadata": {},
     "output_type": "execute_result"
    },
    {
     "data": {
      "image/png": "[encoded data removed]",
      "text/plain": [
       "<Figure size 432x288 with 1 Axes>"
      ]
     },
     "metadata": {
      "needs_background": "light"
     },
     "output_type": "display_data"
    }
   ],
   "source": [
    "sns.barplot(df.X0, df.y.sort_values())"
   ]
  },
  {
   "cell_type": "code",
   "execution_count": 18,
   "id": "c4aef9cd",
   "metadata": {},
   "outputs": [
    {
     "name": "stdout",
     "output_type": "stream",
     "text": [
      "X0\n",
      "X1\n",
      "X2\n",
      "X3\n",
      "X4\n",
      "X5\n",
      "X6\n",
      "X8\n"
     ]
    }
   ],
   "source": [
    "for col in catagorical:\n",
    "    print(col)"
   ]
  },
  {
   "cell_type": "code",
   "execution_count": 19,
   "id": "4fea4c41",
   "metadata": {
    "scrolled": false
   },
   "outputs": [
    {
     "data": {
      "image/png": "[encoded data removed]",
      "text/plain": [
       "<Figure size 864x216 with 1 Axes>"
      ]
     },
     "metadata": {
      "needs_background": "light"
     },
     "output_type": "display_data"
    },
    {
     "data": {
      "image/png": "[encoded data removed]",
      "text/plain": [
       "<Figure size 864x216 with 1 Axes>"
      ]
     },
     "metadata": {
      "needs_background": "light"
     },
     "output_type": "display_data"
    },
    {
     "data": {
      "image/png": "[encoded data removed]",
      "text/plain": [
       "<Figure size 864x216 with 1 Axes>"
      ]
     },
     "metadata": {
      "needs_background": "light"
     },
     "output_type": "display_data"
    },
    {
     "data": {
      "image/png": "[encoded data removed]",
      "text/plain": [
       "<Figure size 864x216 with 1 Axes>"
      ]
     },
     "metadata": {
      "needs_background": "light"
     },
     "output_type": "display_data"
    },
    {
     "data": {
      "image/png": "[encoded data removed]",
      "text/plain": [
       "<Figure size 864x216 with 1 Axes>"
      ]
     },
     "metadata": {
      "needs_background": "light"
     },
     "output_type": "display_data"
    },
    {
     "data": {
      "image/png": "[encoded data removed]",
      "text/plain": [
       "<Figure size 864x216 with 1 Axes>"
      ]
     },
     "metadata": {
      "needs_background": "light"
     },
     "output_type": "display_data"
    },
    {
     "data": {
      "image/png": "[encoded data removed]",
      "text/plain": [
       "<Figure size 864x216 with 1 Axes>"
      ]
     },
     "metadata": {
      "needs_background": "light"
     },
     "output_type": "display_data"
    },
    {
     "data": {
      "image/png": "[encoded data removed]",
      "text/plain": [
       "<Figure size 864x216 with 1 Axes>"
      ]
     },
     "metadata": {
      "needs_background": "light"
     },
     "output_type": "display_data"
    }
   ],
   "source": [
    " for col in catagorical:\n",
    "        #create new figure with one subplot\n",
    "        curr_fig, curr_ax = plt.subplots(figsize=(12,3))\n",
    "        #tell pandas to plot into the axes object of this new figure \n",
    "        df[col].value_counts().plot(kind='bar',\n",
    "                                        figsize=(12,3),\n",
    "                                        title=\"Distribution of y with {}\".format(col),\n",
    "                                        ylabel='count',\n",
    "                                        xlabel='values',\n",
    "                                        ax=curr_ax)"
   ]
  },
  {
   "cell_type": "markdown",
   "id": "f3081d32",
   "metadata": {},
   "source": [
    "The categorical feature X4 has very low variance. So dropping this feature will have no impact on the performance."
   ]
  },
  {
   "cell_type": "code",
   "execution_count": 20,
   "id": "fb58c606",
   "metadata": {},
   "outputs": [
    {
     "data": {
      "text/plain": [
       "d    4204\n",
       "a       2\n",
       "b       1\n",
       "c       1\n",
       "Name: X4, dtype: int64"
      ]
     },
     "execution_count": 20,
     "metadata": {},
     "output_type": "execute_result"
    }
   ],
   "source": [
    "df.X4.value_counts()"
   ]
  },
  {
   "cell_type": "code",
   "execution_count": 21,
   "id": "c109bb69",
   "metadata": {},
   "outputs": [],
   "source": [
    "df.drop('X4', axis=1, inplace=True)"
   ]
  },
  {
   "cell_type": "markdown",
   "id": "273d77d1",
   "metadata": {},
   "source": [
    "### Analysis of Binary Features:"
   ]
  },
  {
   "cell_type": "code",
   "execution_count": 22,
   "id": "46f79efb",
   "metadata": {
    "scrolled": false
   },
   "outputs": [
    {
     "data": {
      "text/html": [
       "<div>\n",
       "<style scoped>\n",
       "    .dataframe tbody tr th:only-of-type {\n",
       "        vertical-align: middle;\n",
       "    }\n",
       "\n",
       "    .dataframe tbody tr th {\n",
       "        vertical-align: top;\n",
       "    }\n",
       "\n",
       "    .dataframe thead th {\n",
       "        text-align: right;\n",
       "    }\n",
       "</style>\n",
       "<table border=\"1\" class=\"dataframe\">\n",
       "  <thead>\n",
       "    <tr style=\"text-align: right;\">\n",
       "      <th></th>\n",
       "      <th>ID</th>\n",
       "      <th>X10</th>\n",
       "      <th>X11</th>\n",
       "      <th>X12</th>\n",
       "      <th>X13</th>\n",
       "      <th>X14</th>\n",
       "      <th>X15</th>\n",
       "      <th>X16</th>\n",
       "      <th>X17</th>\n",
       "      <th>X18</th>\n",
       "      <th>...</th>\n",
       "      <th>X375</th>\n",
       "      <th>X376</th>\n",
       "      <th>X377</th>\n",
       "      <th>X378</th>\n",
       "      <th>X379</th>\n",
       "      <th>X380</th>\n",
       "      <th>X382</th>\n",
       "      <th>X383</th>\n",
       "      <th>X384</th>\n",
       "      <th>X385</th>\n",
       "    </tr>\n",
       "  </thead>\n",
       "  <tbody>\n",
       "    <tr>\n",
       "      <th>0</th>\n",
       "      <td>0</td>\n",
       "      <td>0</td>\n",
       "      <td>0</td>\n",
       "      <td>0</td>\n",
       "      <td>1</td>\n",
       "      <td>0</td>\n",
       "      <td>0</td>\n",
       "      <td>0</td>\n",
       "      <td>0</td>\n",
       "      <td>1</td>\n",
       "      <td>...</td>\n",
       "      <td>0</td>\n",
       "      <td>0</td>\n",
       "      <td>1</td>\n",
       "      <td>0</td>\n",
       "      <td>0</td>\n",
       "      <td>0</td>\n",
       "      <td>0</td>\n",
       "      <td>0</td>\n",
       "      <td>0</td>\n",
       "      <td>0</td>\n",
       "    </tr>\n",
       "    <tr>\n",
       "      <th>1</th>\n",
       "      <td>6</td>\n",
       "      <td>0</td>\n",
       "      <td>0</td>\n",
       "      <td>0</td>\n",
       "      <td>0</td>\n",
       "      <td>0</td>\n",
       "      <td>0</td>\n",
       "      <td>0</td>\n",
       "      <td>0</td>\n",
       "      <td>1</td>\n",
       "      <td>...</td>\n",
       "      <td>1</td>\n",
       "      <td>0</td>\n",
       "      <td>0</td>\n",
       "      <td>0</td>\n",
       "      <td>0</td>\n",
       "      <td>0</td>\n",
       "      <td>0</td>\n",
       "      <td>0</td>\n",
       "      <td>0</td>\n",
       "      <td>0</td>\n",
       "    </tr>\n",
       "    <tr>\n",
       "      <th>2</th>\n",
       "      <td>7</td>\n",
       "      <td>0</td>\n",
       "      <td>0</td>\n",
       "      <td>0</td>\n",
       "      <td>0</td>\n",
       "      <td>0</td>\n",
       "      <td>0</td>\n",
       "      <td>0</td>\n",
       "      <td>1</td>\n",
       "      <td>0</td>\n",
       "      <td>...</td>\n",
       "      <td>0</td>\n",
       "      <td>0</td>\n",
       "      <td>0</td>\n",
       "      <td>0</td>\n",
       "      <td>0</td>\n",
       "      <td>0</td>\n",
       "      <td>1</td>\n",
       "      <td>0</td>\n",
       "      <td>0</td>\n",
       "      <td>0</td>\n",
       "    </tr>\n",
       "    <tr>\n",
       "      <th>3</th>\n",
       "      <td>9</td>\n",
       "      <td>0</td>\n",
       "      <td>0</td>\n",
       "      <td>0</td>\n",
       "      <td>0</td>\n",
       "      <td>0</td>\n",
       "      <td>0</td>\n",
       "      <td>0</td>\n",
       "      <td>0</td>\n",
       "      <td>0</td>\n",
       "      <td>...</td>\n",
       "      <td>0</td>\n",
       "      <td>0</td>\n",
       "      <td>0</td>\n",
       "      <td>0</td>\n",
       "      <td>0</td>\n",
       "      <td>0</td>\n",
       "      <td>0</td>\n",
       "      <td>0</td>\n",
       "      <td>0</td>\n",
       "      <td>0</td>\n",
       "    </tr>\n",
       "    <tr>\n",
       "      <th>4</th>\n",
       "      <td>13</td>\n",
       "      <td>0</td>\n",
       "      <td>0</td>\n",
       "      <td>0</td>\n",
       "      <td>0</td>\n",
       "      <td>0</td>\n",
       "      <td>0</td>\n",
       "      <td>0</td>\n",
       "      <td>0</td>\n",
       "      <td>0</td>\n",
       "      <td>...</td>\n",
       "      <td>0</td>\n",
       "      <td>0</td>\n",
       "      <td>0</td>\n",
       "      <td>0</td>\n",
       "      <td>0</td>\n",
       "      <td>0</td>\n",
       "      <td>0</td>\n",
       "      <td>0</td>\n",
       "      <td>0</td>\n",
       "      <td>0</td>\n",
       "    </tr>\n",
       "    <tr>\n",
       "      <th>...</th>\n",
       "      <td>...</td>\n",
       "      <td>...</td>\n",
       "      <td>...</td>\n",
       "      <td>...</td>\n",
       "      <td>...</td>\n",
       "      <td>...</td>\n",
       "      <td>...</td>\n",
       "      <td>...</td>\n",
       "      <td>...</td>\n",
       "      <td>...</td>\n",
       "      <td>...</td>\n",
       "      <td>...</td>\n",
       "      <td>...</td>\n",
       "      <td>...</td>\n",
       "      <td>...</td>\n",
       "      <td>...</td>\n",
       "      <td>...</td>\n",
       "      <td>...</td>\n",
       "      <td>...</td>\n",
       "      <td>...</td>\n",
       "      <td>...</td>\n",
       "    </tr>\n",
       "    <tr>\n",
       "      <th>4204</th>\n",
       "      <td>8405</td>\n",
       "      <td>0</td>\n",
       "      <td>0</td>\n",
       "      <td>0</td>\n",
       "      <td>0</td>\n",
       "      <td>1</td>\n",
       "      <td>0</td>\n",
       "      <td>0</td>\n",
       "      <td>0</td>\n",
       "      <td>0</td>\n",
       "      <td>...</td>\n",
       "      <td>1</td>\n",
       "      <td>0</td>\n",
       "      <td>0</td>\n",
       "      <td>0</td>\n",
       "      <td>0</td>\n",
       "      <td>0</td>\n",
       "      <td>0</td>\n",
       "      <td>0</td>\n",
       "      <td>0</td>\n",
       "      <td>0</td>\n",
       "    </tr>\n",
       "    <tr>\n",
       "      <th>4205</th>\n",
       "      <td>8406</td>\n",
       "      <td>0</td>\n",
       "      <td>0</td>\n",
       "      <td>0</td>\n",
       "      <td>0</td>\n",
       "      <td>0</td>\n",
       "      <td>0</td>\n",
       "      <td>0</td>\n",
       "      <td>0</td>\n",
       "      <td>0</td>\n",
       "      <td>...</td>\n",
       "      <td>0</td>\n",
       "      <td>1</td>\n",
       "      <td>0</td>\n",
       "      <td>0</td>\n",
       "      <td>0</td>\n",
       "      <td>0</td>\n",
       "      <td>0</td>\n",
       "      <td>0</td>\n",
       "      <td>0</td>\n",
       "      <td>0</td>\n",
       "    </tr>\n",
       "    <tr>\n",
       "      <th>4206</th>\n",
       "      <td>8412</td>\n",
       "      <td>0</td>\n",
       "      <td>0</td>\n",
       "      <td>1</td>\n",
       "      <td>1</td>\n",
       "      <td>0</td>\n",
       "      <td>0</td>\n",
       "      <td>0</td>\n",
       "      <td>0</td>\n",
       "      <td>0</td>\n",
       "      <td>...</td>\n",
       "      <td>0</td>\n",
       "      <td>0</td>\n",
       "      <td>1</td>\n",
       "      <td>0</td>\n",
       "      <td>0</td>\n",
       "      <td>0</td>\n",
       "      <td>0</td>\n",
       "      <td>0</td>\n",
       "      <td>0</td>\n",
       "      <td>0</td>\n",
       "    </tr>\n",
       "    <tr>\n",
       "      <th>4207</th>\n",
       "      <td>8415</td>\n",
       "      <td>0</td>\n",
       "      <td>0</td>\n",
       "      <td>0</td>\n",
       "      <td>0</td>\n",
       "      <td>1</td>\n",
       "      <td>0</td>\n",
       "      <td>0</td>\n",
       "      <td>0</td>\n",
       "      <td>0</td>\n",
       "      <td>...</td>\n",
       "      <td>0</td>\n",
       "      <td>0</td>\n",
       "      <td>0</td>\n",
       "      <td>0</td>\n",
       "      <td>0</td>\n",
       "      <td>0</td>\n",
       "      <td>0</td>\n",
       "      <td>0</td>\n",
       "      <td>0</td>\n",
       "      <td>0</td>\n",
       "    </tr>\n",
       "    <tr>\n",
       "      <th>4208</th>\n",
       "      <td>8417</td>\n",
       "      <td>0</td>\n",
       "      <td>0</td>\n",
       "      <td>0</td>\n",
       "      <td>0</td>\n",
       "      <td>0</td>\n",
       "      <td>0</td>\n",
       "      <td>0</td>\n",
       "      <td>0</td>\n",
       "      <td>0</td>\n",
       "      <td>...</td>\n",
       "      <td>1</td>\n",
       "      <td>0</td>\n",
       "      <td>0</td>\n",
       "      <td>0</td>\n",
       "      <td>0</td>\n",
       "      <td>0</td>\n",
       "      <td>0</td>\n",
       "      <td>0</td>\n",
       "      <td>0</td>\n",
       "      <td>0</td>\n",
       "    </tr>\n",
       "  </tbody>\n",
       "</table>\n",
       "<p>4208 rows × 369 columns</p>\n",
       "</div>"
      ],
      "text/plain": [
       "        ID  X10  X11  X12  X13  X14  X15  X16  X17  X18  ...  X375  X376  \\\n",
       "0        0    0    0    0    1    0    0    0    0    1  ...     0     0   \n",
       "1        6    0    0    0    0    0    0    0    0    1  ...     1     0   \n",
       "2        7    0    0    0    0    0    0    0    1    0  ...     0     0   \n",
       "3        9    0    0    0    0    0    0    0    0    0  ...     0     0   \n",
       "4       13    0    0    0    0    0    0    0    0    0  ...     0     0   \n",
       "...    ...  ...  ...  ...  ...  ...  ...  ...  ...  ...  ...   ...   ...   \n",
       "4204  8405    0    0    0    0    1    0    0    0    0  ...     1     0   \n",
       "4205  8406    0    0    0    0    0    0    0    0    0  ...     0     1   \n",
       "4206  8412    0    0    1    1    0    0    0    0    0  ...     0     0   \n",
       "4207  8415    0    0    0    0    1    0    0    0    0  ...     0     0   \n",
       "4208  8417    0    0    0    0    0    0    0    0    0  ...     1     0   \n",
       "\n",
       "      X377  X378  X379  X380  X382  X383  X384  X385  \n",
       "0        1     0     0     0     0     0     0     0  \n",
       "1        0     0     0     0     0     0     0     0  \n",
       "2        0     0     0     0     1     0     0     0  \n",
       "3        0     0     0     0     0     0     0     0  \n",
       "4        0     0     0     0     0     0     0     0  \n",
       "...    ...   ...   ...   ...   ...   ...   ...   ...  \n",
       "4204     0     0     0     0     0     0     0     0  \n",
       "4205     0     0     0     0     0     0     0     0  \n",
       "4206     1     0     0     0     0     0     0     0  \n",
       "4207     0     0     0     0     0     0     0     0  \n",
       "4208     0     0     0     0     0     0     0     0  \n",
       "\n",
       "[4208 rows x 369 columns]"
      ]
     },
     "execution_count": 22,
     "metadata": {},
     "output_type": "execute_result"
    }
   ],
   "source": [
    "df.select_dtypes(include=['int'])"
   ]
  },
  {
   "cell_type": "code",
   "execution_count": 23,
   "id": "4743e0df",
   "metadata": {},
   "outputs": [
    {
     "data": {
      "text/plain": [
       "<AxesSubplot:>"
      ]
     },
     "execution_count": 23,
     "metadata": {},
     "output_type": "execute_result"
    },
    {
     "data": {
      "image/png": "[encoded data removed]",
      "text/plain": [
       "<Figure size 432x288 with 1 Axes>"
      ]
     },
     "metadata": {
      "needs_background": "light"
     },
     "output_type": "display_data"
    }
   ],
   "source": [
    "df.ID.plot()"
   ]
  },
  {
   "cell_type": "markdown",
   "id": "c4f16771",
   "metadata": {},
   "source": [
    "Removing ID as its not required"
   ]
  },
  {
   "cell_type": "code",
   "execution_count": 24,
   "id": "5cc34bc4",
   "metadata": {},
   "outputs": [],
   "source": [
    "df.drop('ID', axis=1, inplace=True)"
   ]
  },
  {
   "cell_type": "code",
   "execution_count": 25,
   "id": "f048806f",
   "metadata": {},
   "outputs": [
    {
     "data": {
      "text/plain": [
       "<AxesSubplot:xlabel='X10', ylabel='count'>"
      ]
     },
     "execution_count": 25,
     "metadata": {},
     "output_type": "execute_result"
    },
    {
     "data": {
      "image/png": "[encoded data removed]",
      "text/plain": [
       "<Figure size 432x288 with 1 Axes>"
      ]
     },
     "metadata": {
      "needs_background": "light"
     },
     "output_type": "display_data"
    }
   ],
   "source": [
    "sns.countplot(df.X10)"
   ]
  },
  {
   "cell_type": "code",
   "execution_count": 26,
   "id": "fc03ff5c",
   "metadata": {},
   "outputs": [
    {
     "data": {
      "text/plain": [
       "<AxesSubplot:xlabel='X11', ylabel='count'>"
      ]
     },
     "execution_count": 26,
     "metadata": {},
     "output_type": "execute_result"
    },
    {
     "data": {
      "image/png": "[encoded data removed]",
      "text/plain": [
       "<Figure size 432x288 with 1 Axes>"
      ]
     },
     "metadata": {
      "needs_background": "light"
     },
     "output_type": "display_data"
    }
   ],
   "source": [
    "sns.countplot(df.X11)"
   ]
  },
  {
   "cell_type": "code",
   "execution_count": 27,
   "id": "866eb3ee",
   "metadata": {},
   "outputs": [
    {
     "data": {
      "text/plain": [
       "<AxesSubplot:xlabel='X12', ylabel='count'>"
      ]
     },
     "execution_count": 27,
     "metadata": {},
     "output_type": "execute_result"
    },
    {
     "data": {
      "image/png": "[encoded data removed]",
      "text/plain": [
       "<Figure size 432x288 with 1 Axes>"
      ]
     },
     "metadata": {
      "needs_background": "light"
     },
     "output_type": "display_data"
    }
   ],
   "source": [
    "sns.countplot(df.X12)"
   ]
  },
  {
   "cell_type": "code",
   "execution_count": 28,
   "id": "1e3fe5f1",
   "metadata": {},
   "outputs": [
    {
     "data": {
      "text/plain": [
       "<AxesSubplot:xlabel='X13', ylabel='count'>"
      ]
     },
     "execution_count": 28,
     "metadata": {},
     "output_type": "execute_result"
    },
    {
     "data": {
      "image/png": "[encoded data removed]",
      "text/plain": [
       "<Figure size 432x288 with 1 Axes>"
      ]
     },
     "metadata": {
      "needs_background": "light"
     },
     "output_type": "display_data"
    }
   ],
   "source": [
    "sns.countplot(df.X13)"
   ]
  },
  {
   "cell_type": "markdown",
   "id": "6616d37e",
   "metadata": {},
   "source": [
    " There seems more 0 in data than 1"
   ]
  },
  {
   "cell_type": "markdown",
   "id": "a7532808",
   "metadata": {},
   "source": [
    "### Data Preprocessing:"
   ]
  },
  {
   "cell_type": "markdown",
   "id": "ebef204b",
   "metadata": {},
   "source": [
    " LABEL ENCODING THE CATEGORICAL VARIABLE"
   ]
  },
  {
   "cell_type": "code",
   "execution_count": 29,
   "id": "7c80986b",
   "metadata": {},
   "outputs": [],
   "source": [
    "df_test = pd.read_csv('test.csv')\n",
    "df_test.shape\n",
    "df_test.drop('X4', axis=1, inplace=True)"
   ]
  },
  {
   "cell_type": "code",
   "execution_count": 30,
   "id": "24297221",
   "metadata": {},
   "outputs": [],
   "source": [
    "df_full = pd.concat([df,df_test], axis=0)"
   ]
  },
  {
   "cell_type": "code",
   "execution_count": 31,
   "id": "fdd35596",
   "metadata": {},
   "outputs": [
    {
     "data": {
      "text/plain": [
       "(8417, 377)"
      ]
     },
     "execution_count": 31,
     "metadata": {},
     "output_type": "execute_result"
    }
   ],
   "source": [
    "df_full.shape"
   ]
  },
  {
   "cell_type": "code",
   "execution_count": 32,
   "id": "6f20cf23",
   "metadata": {},
   "outputs": [],
   "source": [
    "catagorical.remove('X4')"
   ]
  },
  {
   "cell_type": "code",
   "execution_count": 33,
   "id": "de91d5b2",
   "metadata": {},
   "outputs": [],
   "source": [
    "from sklearn.preprocessing import LabelEncoder\n",
    "\n",
    "encode = LabelEncoder()\n",
    "\n",
    "for col in catagorical:\n",
    "    df_full[col] = encode.fit_transform(df_full[col])"
   ]
  },
  {
   "cell_type": "code",
   "execution_count": 34,
   "id": "f09af7ca",
   "metadata": {},
   "outputs": [
    {
     "data": {
      "text/html": [
       "<div>\n",
       "<style scoped>\n",
       "    .dataframe tbody tr th:only-of-type {\n",
       "        vertical-align: middle;\n",
       "    }\n",
       "\n",
       "    .dataframe tbody tr th {\n",
       "        vertical-align: top;\n",
       "    }\n",
       "\n",
       "    .dataframe thead th {\n",
       "        text-align: right;\n",
       "    }\n",
       "</style>\n",
       "<table border=\"1\" class=\"dataframe\">\n",
       "  <thead>\n",
       "    <tr style=\"text-align: right;\">\n",
       "      <th></th>\n",
       "      <th>y</th>\n",
       "      <th>X0</th>\n",
       "      <th>X1</th>\n",
       "      <th>X2</th>\n",
       "      <th>X3</th>\n",
       "      <th>X5</th>\n",
       "      <th>X6</th>\n",
       "      <th>X8</th>\n",
       "      <th>X10</th>\n",
       "      <th>X11</th>\n",
       "      <th>...</th>\n",
       "      <th>X376</th>\n",
       "      <th>X377</th>\n",
       "      <th>X378</th>\n",
       "      <th>X379</th>\n",
       "      <th>X380</th>\n",
       "      <th>X382</th>\n",
       "      <th>X383</th>\n",
       "      <th>X384</th>\n",
       "      <th>X385</th>\n",
       "      <th>ID</th>\n",
       "    </tr>\n",
       "  </thead>\n",
       "  <tbody>\n",
       "    <tr>\n",
       "      <th>4204</th>\n",
       "      <td>NaN</td>\n",
       "      <td>9</td>\n",
       "      <td>9</td>\n",
       "      <td>19</td>\n",
       "      <td>5</td>\n",
       "      <td>1</td>\n",
       "      <td>9</td>\n",
       "      <td>4</td>\n",
       "      <td>0</td>\n",
       "      <td>0</td>\n",
       "      <td>...</td>\n",
       "      <td>0</td>\n",
       "      <td>0</td>\n",
       "      <td>0</td>\n",
       "      <td>0</td>\n",
       "      <td>0</td>\n",
       "      <td>0</td>\n",
       "      <td>0</td>\n",
       "      <td>0</td>\n",
       "      <td>0</td>\n",
       "      <td>8410.0</td>\n",
       "    </tr>\n",
       "    <tr>\n",
       "      <th>4205</th>\n",
       "      <td>NaN</td>\n",
       "      <td>46</td>\n",
       "      <td>1</td>\n",
       "      <td>9</td>\n",
       "      <td>3</td>\n",
       "      <td>1</td>\n",
       "      <td>9</td>\n",
       "      <td>24</td>\n",
       "      <td>0</td>\n",
       "      <td>0</td>\n",
       "      <td>...</td>\n",
       "      <td>1</td>\n",
       "      <td>0</td>\n",
       "      <td>0</td>\n",
       "      <td>0</td>\n",
       "      <td>0</td>\n",
       "      <td>0</td>\n",
       "      <td>0</td>\n",
       "      <td>0</td>\n",
       "      <td>0</td>\n",
       "      <td>8411.0</td>\n",
       "    </tr>\n",
       "    <tr>\n",
       "      <th>4206</th>\n",
       "      <td>NaN</td>\n",
       "      <td>51</td>\n",
       "      <td>23</td>\n",
       "      <td>19</td>\n",
       "      <td>5</td>\n",
       "      <td>1</td>\n",
       "      <td>3</td>\n",
       "      <td>22</td>\n",
       "      <td>0</td>\n",
       "      <td>0</td>\n",
       "      <td>...</td>\n",
       "      <td>0</td>\n",
       "      <td>0</td>\n",
       "      <td>0</td>\n",
       "      <td>0</td>\n",
       "      <td>0</td>\n",
       "      <td>0</td>\n",
       "      <td>0</td>\n",
       "      <td>0</td>\n",
       "      <td>0</td>\n",
       "      <td>8413.0</td>\n",
       "    </tr>\n",
       "    <tr>\n",
       "      <th>4207</th>\n",
       "      <td>NaN</td>\n",
       "      <td>10</td>\n",
       "      <td>23</td>\n",
       "      <td>19</td>\n",
       "      <td>0</td>\n",
       "      <td>1</td>\n",
       "      <td>2</td>\n",
       "      <td>16</td>\n",
       "      <td>0</td>\n",
       "      <td>0</td>\n",
       "      <td>...</td>\n",
       "      <td>0</td>\n",
       "      <td>1</td>\n",
       "      <td>0</td>\n",
       "      <td>0</td>\n",
       "      <td>0</td>\n",
       "      <td>0</td>\n",
       "      <td>0</td>\n",
       "      <td>0</td>\n",
       "      <td>0</td>\n",
       "      <td>8414.0</td>\n",
       "    </tr>\n",
       "    <tr>\n",
       "      <th>4208</th>\n",
       "      <td>NaN</td>\n",
       "      <td>46</td>\n",
       "      <td>1</td>\n",
       "      <td>9</td>\n",
       "      <td>2</td>\n",
       "      <td>1</td>\n",
       "      <td>6</td>\n",
       "      <td>17</td>\n",
       "      <td>0</td>\n",
       "      <td>0</td>\n",
       "      <td>...</td>\n",
       "      <td>0</td>\n",
       "      <td>0</td>\n",
       "      <td>0</td>\n",
       "      <td>0</td>\n",
       "      <td>0</td>\n",
       "      <td>0</td>\n",
       "      <td>0</td>\n",
       "      <td>0</td>\n",
       "      <td>0</td>\n",
       "      <td>8416.0</td>\n",
       "    </tr>\n",
       "  </tbody>\n",
       "</table>\n",
       "<p>5 rows × 377 columns</p>\n",
       "</div>"
      ],
      "text/plain": [
       "       y  X0  X1  X2  X3  X5  X6  X8  X10  X11  ...  X376  X377  X378  X379  \\\n",
       "4204 NaN   9   9  19   5   1   9   4    0    0  ...     0     0     0     0   \n",
       "4205 NaN  46   1   9   3   1   9  24    0    0  ...     1     0     0     0   \n",
       "4206 NaN  51  23  19   5   1   3  22    0    0  ...     0     0     0     0   \n",
       "4207 NaN  10  23  19   0   1   2  16    0    0  ...     0     1     0     0   \n",
       "4208 NaN  46   1   9   2   1   6  17    0    0  ...     0     0     0     0   \n",
       "\n",
       "      X380  X382  X383  X384  X385      ID  \n",
       "4204     0     0     0     0     0  8410.0  \n",
       "4205     0     0     0     0     0  8411.0  \n",
       "4206     0     0     0     0     0  8413.0  \n",
       "4207     0     0     0     0     0  8414.0  \n",
       "4208     0     0     0     0     0  8416.0  \n",
       "\n",
       "[5 rows x 377 columns]"
      ]
     },
     "execution_count": 34,
     "metadata": {},
     "output_type": "execute_result"
    }
   ],
   "source": [
    "df_full.tail()"
   ]
  },
  {
   "cell_type": "code",
   "execution_count": 35,
   "id": "e78c0b4b",
   "metadata": {},
   "outputs": [
    {
     "data": {
      "text/plain": [
       "(8417, 377)"
      ]
     },
     "execution_count": 35,
     "metadata": {},
     "output_type": "execute_result"
    }
   ],
   "source": [
    "df_full.shape"
   ]
  },
  {
   "cell_type": "code",
   "execution_count": 36,
   "id": "607ef8fe",
   "metadata": {},
   "outputs": [],
   "source": [
    "df_test = df_full[df_full.y.isnull()]"
   ]
  },
  {
   "cell_type": "code",
   "execution_count": 37,
   "id": "382f1ad4",
   "metadata": {},
   "outputs": [
    {
     "data": {
      "text/plain": [
       "(4209, 377)"
      ]
     },
     "execution_count": 37,
     "metadata": {},
     "output_type": "execute_result"
    }
   ],
   "source": [
    "df_test.shape"
   ]
  },
  {
   "cell_type": "code",
   "execution_count": 38,
   "id": "e239ae4a",
   "metadata": {},
   "outputs": [],
   "source": [
    "df_train = df_full[~df_full.y.isnull()]"
   ]
  },
  {
   "cell_type": "code",
   "execution_count": 39,
   "id": "7ce93e92",
   "metadata": {},
   "outputs": [],
   "source": [
    "df_train.dropna(axis=1, inplace = True)"
   ]
  },
  {
   "cell_type": "code",
   "execution_count": 40,
   "id": "a3f888cb",
   "metadata": {},
   "outputs": [
    {
     "data": {
      "text/plain": [
       "(4209, 376)"
      ]
     },
     "execution_count": 40,
     "metadata": {},
     "output_type": "execute_result"
    }
   ],
   "source": [
    "df_test.dropna(axis=1, inplace = True)\n",
    "df_test.shape"
   ]
  },
  {
   "cell_type": "code",
   "execution_count": 41,
   "id": "12e980b0",
   "metadata": {},
   "outputs": [],
   "source": [
    "X_ohe = df_train.drop('y', axis=1)\n",
    "y = df_train.y"
   ]
  },
  {
   "cell_type": "markdown",
   "id": "8994b240",
   "metadata": {},
   "source": [
    "## Training model"
   ]
  },
  {
   "cell_type": "code",
   "execution_count": 42,
   "id": "d94a4165",
   "metadata": {},
   "outputs": [],
   "source": [
    "from sklearn.model_selection import KFold, cross_val_score, cross_validate\n",
    "from xgboost import XGBRegressor, plot_importance\n",
    "from statistics import mean"
   ]
  },
  {
   "cell_type": "markdown",
   "id": "21d2f76d",
   "metadata": {},
   "source": [
    "### XGBOOST - Base model with all features\n"
   ]
  },
  {
   "cell_type": "code",
   "execution_count": 43,
   "id": "7f810e73",
   "metadata": {},
   "outputs": [
    {
     "name": "stderr",
     "output_type": "stream",
     "text": [
      "[Parallel(n_jobs=-1)]: Using backend LokyBackend with 8 concurrent workers.\n",
      "[Parallel(n_jobs=-1)]: Done   2 out of   5 | elapsed:    9.7s remaining:   14.6s\n",
      "[Parallel(n_jobs=-1)]: Done   5 out of   5 | elapsed:    9.8s finished\n"
     ]
    },
    {
     "name": "stdout",
     "output_type": "stream",
     "text": [
      "mae: 5.400184543634216\n",
      "r2: 0.5693837494274602\n"
     ]
    }
   ],
   "source": [
    "xgb= XGBRegressor(n_estimators=200, learning_rate=0.05, random_state=42)\n",
    "\n",
    "fit_params = {\"early_stopping_rounds\": 5, \"eval_set\": [(X_ohe, y)]}\n",
    "cv = KFold(n_splits=5, shuffle=True, random_state=42)\n",
    "xgb_scores = cross_validate(xgb, X_ohe, y, scoring=['neg_mean_absolute_error','r2'], cv=cv, n_jobs=-1, \n",
    "                            verbose=1, fit_params=fit_params, return_estimator=True)\n",
    "\n",
    "print('mae:',abs(xgb_scores['test_neg_mean_absolute_error'].mean()))\n",
    "print('r2:',xgb_scores['test_r2'].mean())"
   ]
  },
  {
   "cell_type": "code",
   "execution_count": null,
   "id": "c4f89b85",
   "metadata": {},
   "outputs": [],
   "source": []
  },
  {
   "cell_type": "markdown",
   "id": "e446e59c",
   "metadata": {},
   "source": [
    "### Random Forest"
   ]
  },
  {
   "cell_type": "code",
   "execution_count": 44,
   "id": "5020ac9a",
   "metadata": {},
   "outputs": [
    {
     "name": "stdout",
     "output_type": "stream",
     "text": [
      "mae: 5.296526701067371\n",
      "r2: 0.5903033816186611\n"
     ]
    }
   ],
   "source": [
    "from sklearn.ensemble import RandomForestRegressor\n",
    "\n",
    "rf = RandomForestRegressor(max_depth=4, n_estimators=5, random_state=42)\n",
    "# evaluate model\n",
    "cv = KFold(n_splits=10, shuffle=True, random_state=42)\n",
    "rf_scores = cross_validate(rf, X_ohe, y, scoring=['neg_mean_absolute_error','r2'], cv=cv, n_jobs=-1, return_estimator=True)\n",
    "\n",
    "rf_base_mae = abs(rf_scores['test_neg_mean_absolute_error'].mean())\n",
    "rf_base_r2 = rf_scores['test_r2'].mean()\n",
    "\n",
    "print('mae:',rf_base_mae)\n",
    "print('r2:',rf_base_r2)"
   ]
  },
  {
   "cell_type": "code",
   "execution_count": 45,
   "id": "284e5dc6",
   "metadata": {},
   "outputs": [],
   "source": [
    "from sklearn.model_selection import GridSearchCV\n",
    "from sklearn.model_selection import train_test_split"
   ]
  },
  {
   "cell_type": "code",
   "execution_count": 46,
   "id": "ffc0737a",
   "metadata": {},
   "outputs": [],
   "source": [
    "X_train, X_test, y_train, y_test = train_test_split(X_ohe, y, test_size = 0.3, random_state = 42)\n"
   ]
  },
  {
   "cell_type": "code",
   "execution_count": 47,
   "id": "07b46071",
   "metadata": {},
   "outputs": [
    {
     "data": {
      "text/plain": [
       "GridSearchCV(cv=KFold(n_splits=10, random_state=42, shuffle=True),\n",
       "             estimator=RandomForestRegressor(max_depth=4, n_estimators=5,\n",
       "                                             random_state=42),\n",
       "             n_jobs=-1,\n",
       "             param_grid={'bootstrap': [True], 'max_depth': [5, 10, None],\n",
       "                         'max_features': ['auto', 'log2'],\n",
       "                         'n_estimators': [5, 6, 7, 8, 9, 10, 11, 12, 13, 15]},\n",
       "             scoring='r2')"
      ]
     },
     "execution_count": 47,
     "metadata": {},
     "output_type": "execute_result"
    }
   ],
   "source": [
    "rfc = RandomForestRegressor(max_depth=4, n_estimators=5, random_state=42)\n",
    "# evaluate model\n",
    "forest_params = {  'bootstrap': [True], 'max_depth': [5, 10, None], 'max_features': ['auto', 'log2'], 'n_estimators': [5, 6, 7, 8, 9, 10, 11, 12, 13, 15]}\n",
    "cv = KFold(n_splits=10, shuffle=True, random_state=42)\n",
    "\n",
    "rf_scores = GridSearchCV(rfc ,forest_params, scoring='r2', cv=cv, n_jobs=-1)\n",
    "\n",
    "rf_scores.fit(X_train, y_train)\n",
    "\n",
    "# rf_base_mae = abs(rf_scores['test_neg_mean_absolute_error'].mean())\n",
    "# rf_base_r2 = rf_scores['test_r2'].mean()\n",
    "\n",
    "# print('mae:',rf_base_mae)\n",
    "# print('r2:',rf_base_r2)"
   ]
  },
  {
   "cell_type": "code",
   "execution_count": 48,
   "id": "142a02c1",
   "metadata": {},
   "outputs": [
    {
     "data": {
      "text/plain": [
       "RandomForestRegressor(max_depth=5, n_estimators=12, random_state=42)"
      ]
     },
     "execution_count": 48,
     "metadata": {},
     "output_type": "execute_result"
    }
   ],
   "source": [
    "rf_scores.best_estimator_"
   ]
  },
  {
   "cell_type": "code",
   "execution_count": 49,
   "id": "efa0fb3d",
   "metadata": {},
   "outputs": [
    {
     "data": {
      "text/plain": [
       "0.6092791356036134"
      ]
     },
     "execution_count": 49,
     "metadata": {},
     "output_type": "execute_result"
    }
   ],
   "source": [
    "rf_scores.best_score_"
   ]
  },
  {
   "cell_type": "code",
   "execution_count": 50,
   "id": "063f4304",
   "metadata": {},
   "outputs": [
    {
     "name": "stdout",
     "output_type": "stream",
     "text": [
      "{'n_estimators': [5, 6, 7, 8, 9, 10, 11, 12, 13, 15], 'max_features': ['auto', 'log2'], 'max_depth': [5, 10, None], 'bootstrap': [True, False]}\n"
     ]
    }
   ],
   "source": [
    "import numpy as np\n",
    "\n",
    "from sklearn.model_selection import RandomizedSearchCV\n",
    "\n",
    "n_estimators = [int(x) for x in np.linspace(start = 5 , stop = 15, num = 10)] # returns 10 numbers \n",
    "\n",
    "max_features = ['auto', 'log2']\n",
    "\n",
    "max_depth = [int(x) for x in np.linspace(5, 10, num = 2)] \n",
    "\n",
    "max_depth.append(None)\n",
    "\n",
    "bootstrap = [True, False]\n",
    "\n",
    "random_grid = {'n_estimators': n_estimators,\n",
    "\n",
    "               'max_features': max_features,\n",
    "\n",
    "               'max_depth': max_depth,\n",
    "\n",
    "               'bootstrap': bootstrap}\n",
    "\n",
    "print(random_grid)"
   ]
  },
  {
   "cell_type": "code",
   "execution_count": 52,
   "id": "a6bb3940",
   "metadata": {},
   "outputs": [
    {
     "name": "stdout",
     "output_type": "stream",
     "text": [
      "Fitting 10 folds for each of 20 candidates, totalling 200 fits\n",
      "{'n_estimators': 5, 'max_features': 'auto', 'max_depth': 5, 'bootstrap': True}\n"
     ]
    }
   ],
   "source": [
    "rfr= RandomForestRegressor()\n",
    "rfr_random = RandomizedSearchCV(estimator=rfr,\n",
    "                                param_distributions=random_grid,\n",
    "                                n_iter = 20,\n",
    "                                scoring='r2',\n",
    "                                cv = cv, \n",
    "                                verbose=2,\n",
    "                                random_state=42,\n",
    "                                n_jobs=-1, \n",
    "                                return_train_score=True)\n",
    "\n",
    "rfr_random.fit(X_train, y_train)\n",
    "\n",
    "print(rfr_random.best_params_)\n",
    "\n"
   ]
  },
  {
   "cell_type": "code",
   "execution_count": 53,
   "id": "7242b86b",
   "metadata": {},
   "outputs": [
    {
     "data": {
      "text/plain": [
       "0.6096300613638406"
      ]
     },
     "execution_count": 53,
     "metadata": {},
     "output_type": "execute_result"
    }
   ],
   "source": [
    "rfr_random.best_score_"
   ]
  },
  {
   "cell_type": "code",
   "execution_count": 57,
   "id": "a241f323",
   "metadata": {},
   "outputs": [],
   "source": [
    "model = RandomForestRegressor(max_depth=5, n_estimators=12, random_state=42)"
   ]
  },
  {
   "cell_type": "code",
   "execution_count": 58,
   "id": "86073719",
   "metadata": {},
   "outputs": [
    {
     "data": {
      "text/plain": [
       "0.19966017538748926"
      ]
     },
     "execution_count": 58,
     "metadata": {},
     "output_type": "execute_result"
    }
   ],
   "source": [
    "from sklearn import metrics\n",
    "\n",
    "model.fit(X_train, y_train)\n",
    "\n",
    "pred = model.predict(X_test)\n",
    "\n",
    "metrics.r2_score(pred, y_test)"
   ]
  },
  {
   "cell_type": "code",
   "execution_count": 68,
   "id": "ff89c88e",
   "metadata": {},
   "outputs": [
    {
     "data": {
      "text/plain": [
       "(4209, 375)"
      ]
     },
     "execution_count": 68,
     "metadata": {},
     "output_type": "execute_result"
    }
   ],
   "source": [
    "df_test.shape"
   ]
  },
  {
   "cell_type": "code",
   "execution_count": 69,
   "id": "6127de14",
   "metadata": {},
   "outputs": [
    {
     "data": {
      "text/plain": [
       "(2945, 375)"
      ]
     },
     "execution_count": 69,
     "metadata": {},
     "output_type": "execute_result"
    }
   ],
   "source": [
    "X_train.shape"
   ]
  },
  {
   "cell_type": "code",
   "execution_count": 70,
   "id": "29af651e",
   "metadata": {},
   "outputs": [],
   "source": [
    "df_test = df_test[X_train.columns]"
   ]
  },
  {
   "cell_type": "code",
   "execution_count": 71,
   "id": "e1d858cf",
   "metadata": {},
   "outputs": [
    {
     "data": {
      "text/plain": [
       "(4209, 375)"
      ]
     },
     "execution_count": 71,
     "metadata": {},
     "output_type": "execute_result"
    }
   ],
   "source": [
    "df_test.shape"
   ]
  },
  {
   "cell_type": "code",
   "execution_count": 63,
   "id": "06b0a107",
   "metadata": {},
   "outputs": [],
   "source": [
    "final = model.predict(df_test)"
   ]
  },
  {
   "cell_type": "code",
   "execution_count": null,
   "id": "9071985f",
   "metadata": {},
   "outputs": [],
   "source": [
    "submission = pd.read_csv('test.csv')"
   ]
  },
  {
   "cell_type": "code",
   "execution_count": 64,
   "id": "b4187214",
   "metadata": {},
   "outputs": [
    {
     "ename": "NameError",
     "evalue": "name 'submission' is not defined",
     "output_type": "error",
     "traceback": [
      "\u001b[1;31m---------------------------------------------------------------------------\u001b[0m",
      "\u001b[1;31mNameError\u001b[0m                                 Traceback (most recent call last)",
      "\u001b[1;32m~\\AppData\\Local\\Temp/ipykernel_2520/1784873703.py\u001b[0m in \u001b[0;36m<module>\u001b[1;34m\u001b[0m\n\u001b[1;32m----> 1\u001b[1;33m \u001b[0msubmission\u001b[0m \u001b[1;33m=\u001b[0m \u001b[0msubmission\u001b[0m\u001b[1;33m.\u001b[0m\u001b[0mID\u001b[0m\u001b[1;33m\u001b[0m\u001b[1;33m\u001b[0m\u001b[0m\n\u001b[0m",
      "\u001b[1;31mNameError\u001b[0m: name 'submission' is not defined"
     ]
    }
   ],
   "source": [
    "submission = submission.ID"
   ]
  },
  {
   "cell_type": "code",
   "execution_count": null,
   "id": "b336251f",
   "metadata": {},
   "outputs": [],
   "source": [
    "final = pd.DataFrame(final)"
   ]
  },
  {
   "cell_type": "code",
   "execution_count": null,
   "id": "3f554d0d",
   "metadata": {},
   "outputs": [],
   "source": [
    "final = pd.concat([submission, final], axis=1)"
   ]
  },
  {
   "cell_type": "code",
   "execution_count": null,
   "id": "032f52f1",
   "metadata": {},
   "outputs": [],
   "source": [
    "final.columns = ('ID', 'y')"
   ]
  },
  {
   "cell_type": "code",
   "execution_count": null,
   "id": "84dcb3dd",
   "metadata": {},
   "outputs": [],
   "source": [
    "final.to_csv('submission.csv')"
   ]
  },
  {
   "cell_type": "markdown",
   "id": "e88aabba",
   "metadata": {},
   "source": [
    "## Top Binary features using Random Forest"
   ]
  },
  {
   "cell_type": "code",
   "execution_count": 65,
   "id": "a0ddb593",
   "metadata": {},
   "outputs": [],
   "source": [
    "integer.remove('ID')"
   ]
  },
  {
   "cell_type": "code",
   "execution_count": 66,
   "id": "9d03b5cb",
   "metadata": {},
   "outputs": [
    {
     "data": {
      "text/plain": [
       "368"
      ]
     },
     "execution_count": 66,
     "metadata": {},
     "output_type": "execute_result"
    }
   ],
   "source": [
    "len(integer)"
   ]
  },
  {
   "cell_type": "code",
   "execution_count": 73,
   "id": "599c5a26",
   "metadata": {},
   "outputs": [],
   "source": [
    "X = X_ohe.copy()"
   ]
  },
  {
   "cell_type": "code",
   "execution_count": 74,
   "id": "f0feca31",
   "metadata": {},
   "outputs": [],
   "source": [
    "X_train, X_test, y_train, y_test = train_test_split(X_ohe, y, test_size = 0.3, random_state = 42)\n"
   ]
  },
  {
   "cell_type": "code",
   "execution_count": 75,
   "id": "d7c86e00",
   "metadata": {},
   "outputs": [],
   "source": [
    "binary_df = X[(integer)]"
   ]
  },
  {
   "cell_type": "code",
   "execution_count": 76,
   "id": "10df8267",
   "metadata": {},
   "outputs": [],
   "source": [
    "from sklearn.ensemble import RandomForestRegressor\n",
    "model = RandomForestRegressor()\n",
    "model.fit(binary_df, y)\n",
    "\n",
    "#Feature Importance\n",
    "\n",
    "results= pd.DataFrame()\n",
    "results['columns'] = binary_df.columns\n",
    "results['importance'] = model.feature_importances_\n",
    "results.sort_values(by='importance', ascending=False, inplace=True)\n",
    "results= results[:15]"
   ]
  },
  {
   "cell_type": "code",
   "execution_count": 77,
   "id": "4268c85f",
   "metadata": {},
   "outputs": [
    {
     "data": {
      "text/plain": [
       "<AxesSubplot:xlabel='importance', ylabel='columns'>"
      ]
     },
     "execution_count": 77,
     "metadata": {},
     "output_type": "execute_result"
    },
    {
     "data": {
      "image/png": "[encoded data removed]",
      "text/plain": [
       "<Figure size 432x288 with 1 Axes>"
      ]
     },
     "metadata": {
      "needs_background": "light"
     },
     "output_type": "display_data"
    }
   ],
   "source": [
    "sns.barplot(x='importance', y='columns', data=results)"
   ]
  },
  {
   "cell_type": "markdown",
   "id": "4cd28830",
   "metadata": {},
   "source": [
    "## Top Binary features using XGBOOST"
   ]
  },
  {
   "cell_type": "code",
   "execution_count": 80,
   "id": "3e0ce9df",
   "metadata": {},
   "outputs": [
    {
     "data": {
      "text/plain": [
       "<AxesSubplot:xlabel='importance', ylabel='columns'>"
      ]
     },
     "execution_count": 80,
     "metadata": {},
     "output_type": "execute_result"
    },
    {
     "data": {
      "image/png": "[encoded data removed]",
      "text/plain": [
       "<Figure size 432x288 with 1 Axes>"
      ]
     },
     "metadata": {
      "needs_background": "light"
     },
     "output_type": "display_data"
    }
   ],
   "source": [
    "from xgboost import XGBRegressor\n",
    "model1 = XGBRegressor()\n",
    "model1.fit(binary_df, y)\n",
    "\n",
    "#Feature Importance\n",
    "\n",
    "results1= pd.DataFrame()\n",
    "results1['columns'] = binary_df.columns\n",
    "results1['importance'] = model1.feature_importances_\n",
    "results1.sort_values(by='importance', ascending=False, inplace=True)\n",
    "results1= results1[:15]\n",
    "\n",
    "sns.barplot(x='importance', y='columns', data=results1)"
   ]
  },
  {
   "cell_type": "markdown",
   "id": "49ad54eb",
   "metadata": {},
   "source": [
    "### Lets select RandomForest selected features"
   ]
  },
  {
   "cell_type": "code",
   "execution_count": 81,
   "id": "d6ce92e6",
   "metadata": {},
   "outputs": [],
   "source": [
    "rf_binary_df_top = binary_df[results['columns']]\n",
    "rf_binary_df_top = rf_binary_df_top.join(X.drop((integer), axis=1))"
   ]
  },
  {
   "cell_type": "code",
   "execution_count": 82,
   "id": "0a951499",
   "metadata": {},
   "outputs": [
    {
     "name": "stdout",
     "output_type": "stream",
     "text": [
      "(4208, 375)\n",
      "(4208, 22)\n",
      "(4208,)\n"
     ]
    }
   ],
   "source": [
    "print(X_ohe.shape)\n",
    "print(rf_binary_df_top.shape)\n",
    "print(y.shape)"
   ]
  },
  {
   "cell_type": "code",
   "execution_count": 83,
   "id": "8b9453e2",
   "metadata": {},
   "outputs": [],
   "source": [
    "xgb_binary_df_top = binary_df[results1['columns']]\n",
    "xgb_binary_df_top = xgb_binary_df_top.join(X.drop((integer), axis=1))"
   ]
  },
  {
   "cell_type": "code",
   "execution_count": null,
   "id": "a5c36885",
   "metadata": {},
   "outputs": [],
   "source": [
    "xgb= XGBRegressor(n_estimators=5, learning_rate=0.02, random_state=42)\n",
    "\n",
    "fit_params = {\"early_stopping_rounds\": 5, \"eval_set\": [(rf_binary_df_top, y)]}\n",
    "cv = KFold(n_splits=5, shuffle=True, random_state=42)\n",
    "xgb_scores = cross_validate(xgb, rf_binary_df_top, y, scoring=['neg_mean_absolute_error','r2'], cv=cv, n_jobs=-1, \n",
    "                            verbose=1, fit_params=fit_params, return_estimator=True)\n",
    "\n",
    "print('mae:',abs(xgb_scores['test_neg_mean_absolute_error'].mean()))\n",
    "print('r2:',xgb_scores['test_r2'].mean())"
   ]
  },
  {
   "cell_type": "code",
   "execution_count": 366,
   "id": "b7c02d7a",
   "metadata": {},
   "outputs": [
    {
     "name": "stdout",
     "output_type": "stream",
     "text": [
      "mae: 5.271999111444085\n",
      "r2: 0.5957537881601125\n"
     ]
    }
   ],
   "source": [
    "from sklearn.ensemble import RandomForestRegressor\n",
    "\n",
    "rf = RandomForestRegressor(max_depth=4, n_estimators=35, random_state=42)\n",
    "\n",
    "# evaluate model\n",
    "cv = KFold(n_splits=10, shuffle=True, random_state=42)\n",
    "rf_scores = cross_validate(rf, rf_binary_df_top, y,\n",
    "                           scoring=['neg_mean_absolute_error','r2'], \n",
    "                           cv=cv, n_jobs=-1, \n",
    "                           return_estimator=True)\n",
    "\n",
    "rf_base_mae = abs(rf_scores['test_neg_mean_absolute_error'].mean())\n",
    "rf_base_r2 = rf_scores['test_r2'].mean()\n",
    "\n",
    "print('mae:',rf_base_mae)\n",
    "print('r2:',rf_base_r2)"
   ]
  },
  {
   "cell_type": "markdown",
   "id": "e79c4793",
   "metadata": {},
   "source": [
    "### HyperTunning RandomForest with RandomizedGearchCV"
   ]
  },
  {
   "cell_type": "code",
   "execution_count": 377,
   "id": "b118b334",
   "metadata": {},
   "outputs": [],
   "source": [
    "from sklearn.model_selection import RandomizedSearchCV\n",
    "# Number of trees in random forest\n",
    "n_estimators = [int(x) for x in np.linspace(start = 1, stop = 2000, num = 500)]\n",
    "# Number of features to consider at every split\n",
    "max_features = ['auto', 'sqrt']\n",
    "# Maximum number of levels in tree\n",
    "max_depth = [int(x) for x in np.linspace(1, 10, num = 10)]\n",
    "max_depth.append(None)\n",
    "# Minimum number of samples required to split a node\n",
    "min_samples_split = [8, 10,12,14,15,16,18,20,22]\n",
    "# Minimum number of samples required at each leaf node\n",
    "min_samples_leaf = [4, 5,6,7,8,9,10,11,12,13,14]\n",
    "# Method of selecting samples for training each tree\n",
    "bootstrap = [True, False]\n",
    "# Create the random grid\n",
    "random_grid = {'n_estimators': n_estimators,\n",
    "               'max_features': max_features,\n",
    "               'max_depth': max_depth,\n",
    "               'min_samples_split': min_samples_split,\n",
    "               'min_samples_leaf': min_samples_leaf,\n",
    "               'bootstrap': bootstrap}"
   ]
  },
  {
   "cell_type": "code",
   "execution_count": 378,
   "id": "a2abb8cf",
   "metadata": {
    "collapsed": true
   },
   "outputs": [
    {
     "name": "stdout",
     "output_type": "stream",
     "text": [
      "Fitting 3 folds for each of 100 candidates, totalling 300 fits\n"
     ]
    },
    {
     "data": {
      "text/plain": [
       "RandomizedSearchCV(cv=3, estimator=RandomForestRegressor(), n_iter=100,\n",
       "                   n_jobs=-1,\n",
       "                   param_distributions={'bootstrap': [True, False],\n",
       "                                        'max_depth': [1, 2, 3, 4, 5, 6, 7, 8, 9,\n",
       "                                                      10, None],\n",
       "                                        'max_features': ['auto', 'sqrt'],\n",
       "                                        'min_samples_leaf': [4, 5, 6, 7, 8, 9,\n",
       "                                                             10, 11, 12, 13,\n",
       "                                                             14],\n",
       "                                        'min_samples_split': [8, 10, 12, 14, 15,\n",
       "                                                              16, 18, 20, 22],\n",
       "                                        'n_estimators': [1, 5, 9, 13, 17, 21,\n",
       "                                                         25, 29, 33, 37, 41, 45,\n",
       "                                                         49, 53, 57, 61, 65, 69,\n",
       "                                                         73, 77, 81, 85, 89, 93,\n",
       "                                                         97, 101, 105, 109, 113,\n",
       "                                                         117, ...]},\n",
       "                   random_state=42, verbose=2)"
      ]
     },
     "execution_count": 378,
     "metadata": {},
     "output_type": "execute_result"
    }
   ],
   "source": [
    "rf = RandomForestRegressor()\n",
    "# Random search of parameters, using 3 fold cross validation, \n",
    "# search across 100 different combinations, and use all available cores\n",
    "rf_random = RandomizedSearchCV(estimator = rf, \n",
    "                               param_distributions = random_grid, \n",
    "                               n_iter = 100, cv = 3, verbose=2,\n",
    "                               random_state=42, n_jobs = -1,\n",
    "                              scoring='r2')\n",
    "# Fit the random search model\n",
    "rf_random.fit(rf_binary_df_top, y)"
   ]
  },
  {
   "cell_type": "code",
   "execution_count": 380,
   "id": "8b1c1c97",
   "metadata": {},
   "outputs": [
    {
     "data": {
      "text/plain": [
       "0.5822464466241466"
      ]
     },
     "execution_count": 380,
     "metadata": {},
     "output_type": "execute_result"
    }
   ],
   "source": [
    "rf_random.best_score_"
   ]
  },
  {
   "cell_type": "code",
   "execution_count": 381,
   "id": "7d2eab0b",
   "metadata": {},
   "outputs": [
    {
     "data": {
      "text/plain": [
       "{'n_estimators': 81,\n",
       " 'min_samples_split': 16,\n",
       " 'min_samples_leaf': 7,\n",
       " 'max_features': 'auto',\n",
       " 'max_depth': 3,\n",
       " 'bootstrap': True}"
      ]
     },
     "execution_count": 381,
     "metadata": {},
     "output_type": "execute_result"
    }
   ],
   "source": [
    "rf_random.best_params_"
   ]
  },
  {
   "cell_type": "markdown",
   "id": "3ca5eaf5",
   "metadata": {},
   "source": [
    "### Hyperparameter tuning with GridSearchCV"
   ]
  },
  {
   "cell_type": "code",
   "execution_count": 99,
   "id": "31c7bf39",
   "metadata": {},
   "outputs": [],
   "source": [
    "from sklearn.model_selection import GridSearchCV\n",
    "# Create the parameter grid based on the results of random search \n",
    "param_grid = {\n",
    "    'bootstrap': [True],\n",
    "    'max_depth': [int(x) for x in np.linspace(1, 10, num = 5)],\n",
    "    'max_features': ['auto', 'sqrt'],\n",
    "    'min_samples_leaf': [int(x) for x in np.linspace(4, 10, num = 5)],\n",
    "    'min_samples_split': [int(x) for x in np.linspace(1, 15, num = 8)],\n",
    "    'n_estimators': [int(x) for x in np.linspace(1, 100, num = 5)],\n",
    "}\n",
    "\n",
    "# Create a based model\n",
    "rf = RandomForestRegressor()\n",
    "# Instantiate the grid search model\n",
    "grid_search = GridSearchCV(estimator = rf, param_grid = param_grid, \n",
    "                          cv = 4, n_jobs = -1, verbose = 1,\n",
    "                          scoring='r2')"
   ]
  },
  {
   "cell_type": "code",
   "execution_count": 100,
   "id": "e4adc88e",
   "metadata": {},
   "outputs": [
    {
     "name": "stdout",
     "output_type": "stream",
     "text": [
      "Fitting 4 folds for each of 2000 candidates, totalling 8000 fits\n"
     ]
    },
    {
     "data": {
      "text/plain": [
       "{'bootstrap': True,\n",
       " 'max_depth': 5,\n",
       " 'max_features': 'auto',\n",
       " 'min_samples_leaf': 5,\n",
       " 'min_samples_split': 13,\n",
       " 'n_estimators': 25}"
      ]
     },
     "execution_count": 100,
     "metadata": {},
     "output_type": "execute_result"
    }
   ],
   "source": [
    "# Fit the grid search to the data\n",
    "grid_search.fit(rf_binary_df_top, y)\n",
    "grid_search.best_params_"
   ]
  },
  {
   "cell_type": "code",
   "execution_count": 101,
   "id": "d66ea78c",
   "metadata": {},
   "outputs": [
    {
     "data": {
      "text/plain": [
       "0.5901815135192678"
      ]
     },
     "execution_count": 101,
     "metadata": {},
     "output_type": "execute_result"
    }
   ],
   "source": [
    "grid_search.best_score_"
   ]
  },
  {
   "cell_type": "code",
   "execution_count": 119,
   "id": "b1b0e05e",
   "metadata": {},
   "outputs": [],
   "source": [
    "rf = RandomForestRegressor(bootstrap=True,\n",
    "                             max_depth= 5,\n",
    "                             max_features='auto',\n",
    "                             min_samples_leaf= 5,\n",
    "                            min_samples_split= 13,\n",
    "                            n_estimators = 25)"
   ]
  },
  {
   "cell_type": "code",
   "execution_count": 120,
   "id": "cb92eec6",
   "metadata": {},
   "outputs": [],
   "source": [
    "df_test = df_test[X.columns]"
   ]
  },
  {
   "cell_type": "code",
   "execution_count": 121,
   "id": "236ea3bf",
   "metadata": {},
   "outputs": [
    {
     "data": {
      "text/plain": [
       "(4208, 375)"
      ]
     },
     "execution_count": 121,
     "metadata": {},
     "output_type": "execute_result"
    }
   ],
   "source": [
    "X.shape"
   ]
  },
  {
   "cell_type": "code",
   "execution_count": 122,
   "id": "f0c6b663",
   "metadata": {},
   "outputs": [
    {
     "data": {
      "text/plain": [
       "(4209, 375)"
      ]
     },
     "execution_count": 122,
     "metadata": {},
     "output_type": "execute_result"
    }
   ],
   "source": [
    "df_test.shape"
   ]
  },
  {
   "cell_type": "code",
   "execution_count": 123,
   "id": "6609d618",
   "metadata": {
    "scrolled": true
   },
   "outputs": [
    {
     "data": {
      "text/plain": [
       "RandomForestRegressor(max_depth=5, min_samples_leaf=5, min_samples_split=13,\n",
       "                      n_estimators=25)"
      ]
     },
     "execution_count": 123,
     "metadata": {},
     "output_type": "execute_result"
    }
   ],
   "source": [
    "rf"
   ]
  },
  {
   "cell_type": "code",
   "execution_count": null,
   "id": "139c116a",
   "metadata": {},
   "outputs": [],
   "source": []
  },
  {
   "cell_type": "code",
   "execution_count": null,
   "id": "77f0873f",
   "metadata": {},
   "outputs": [],
   "source": []
  },
  {
   "cell_type": "code",
   "execution_count": 124,
   "id": "20ecaa3c",
   "metadata": {},
   "outputs": [
    {
     "data": {
      "text/plain": [
       "RandomForestRegressor(max_depth=5, min_samples_leaf=5, min_samples_split=13,\n",
       "                      n_estimators=25)"
      ]
     },
     "execution_count": 124,
     "metadata": {},
     "output_type": "execute_result"
    }
   ],
   "source": [
    "rf.fit(X,y)"
   ]
  },
  {
   "cell_type": "code",
   "execution_count": 137,
   "id": "ee2490ca",
   "metadata": {},
   "outputs": [],
   "source": [
    "pred = rf.predict(df_test)"
   ]
  },
  {
   "cell_type": "code",
   "execution_count": 138,
   "id": "fca1aca4",
   "metadata": {},
   "outputs": [],
   "source": [
    "submission = pd.read_csv('test.csv')"
   ]
  },
  {
   "cell_type": "code",
   "execution_count": 139,
   "id": "8b6d4cdf",
   "metadata": {},
   "outputs": [],
   "source": [
    "submission = submission.ID"
   ]
  },
  {
   "cell_type": "code",
   "execution_count": 140,
   "id": "4d3caff8",
   "metadata": {},
   "outputs": [],
   "source": [
    "pred = pd.concat([submission, pd.DataFrame(pred)], axis=1)"
   ]
  },
  {
   "cell_type": "code",
   "execution_count": 143,
   "id": "d978d93b",
   "metadata": {},
   "outputs": [],
   "source": [
    "pred.columns = ('ID', 'y')"
   ]
  },
  {
   "cell_type": "code",
   "execution_count": 144,
   "id": "5dbda17a",
   "metadata": {},
   "outputs": [],
   "source": [
    "pred.to_csv('submission_RF15.csv')"
   ]
  },
  {
   "cell_type": "markdown",
   "id": "7b166474",
   "metadata": {},
   "source": [
    "## PCA "
   ]
  },
  {
   "cell_type": "code",
   "execution_count": 145,
   "id": "f94ad35c",
   "metadata": {},
   "outputs": [],
   "source": [
    "from sklearn.decomposition import PCA"
   ]
  },
  {
   "cell_type": "code",
   "execution_count": 146,
   "id": "78d4aaf6",
   "metadata": {},
   "outputs": [
    {
     "data": {
      "text/plain": [
       "(4208, 375)"
      ]
     },
     "execution_count": 146,
     "metadata": {},
     "output_type": "execute_result"
    }
   ],
   "source": [
    "X.shape"
   ]
  },
  {
   "cell_type": "code",
   "execution_count": 147,
   "id": "42fd6a77",
   "metadata": {},
   "outputs": [
    {
     "data": {
      "text/plain": [
       "(4209, 375)"
      ]
     },
     "execution_count": 147,
     "metadata": {},
     "output_type": "execute_result"
    }
   ],
   "source": [
    "df_test.shape"
   ]
  },
  {
   "cell_type": "code",
   "execution_count": 283,
   "id": "beb7d668",
   "metadata": {},
   "outputs": [],
   "source": [
    "pca = PCA(n_components= 80)"
   ]
  },
  {
   "cell_type": "code",
   "execution_count": 284,
   "id": "dba00e5a",
   "metadata": {},
   "outputs": [],
   "source": [
    "pca_df_train = pca.fit_transform(X[integer])\n",
    "pca_df_test = pca.transform(df_test[integer])"
   ]
  },
  {
   "cell_type": "code",
   "execution_count": 285,
   "id": "fbaa4d64",
   "metadata": {},
   "outputs": [],
   "source": [
    "pca1=pd.DataFrame(pca_df_train)"
   ]
  },
  {
   "cell_type": "code",
   "execution_count": 286,
   "id": "68116fcf",
   "metadata": {},
   "outputs": [
    {
     "data": {
      "text/plain": [
       "0"
      ]
     },
     "execution_count": 286,
     "metadata": {},
     "output_type": "execute_result"
    }
   ],
   "source": [
    "X.isnull().sum().sum()"
   ]
  },
  {
   "cell_type": "code",
   "execution_count": 287,
   "id": "2f69329f",
   "metadata": {},
   "outputs": [],
   "source": [
    "train_pca = pd.concat([X[catagorical],pca1], axis=1)\n",
    "\n",
    "test_pca = pd.concat([df_test[catagorical],pd.DataFrame(pca_df_test)], axis=1)"
   ]
  },
  {
   "cell_type": "code",
   "execution_count": 288,
   "id": "ebc53989",
   "metadata": {},
   "outputs": [
    {
     "data": {
      "text/html": [
       "<div>\n",
       "<style scoped>\n",
       "    .dataframe tbody tr th:only-of-type {\n",
       "        vertical-align: middle;\n",
       "    }\n",
       "\n",
       "    .dataframe tbody tr th {\n",
       "        vertical-align: top;\n",
       "    }\n",
       "\n",
       "    .dataframe thead th {\n",
       "        text-align: right;\n",
       "    }\n",
       "</style>\n",
       "<table border=\"1\" class=\"dataframe\">\n",
       "  <thead>\n",
       "    <tr style=\"text-align: right;\">\n",
       "      <th></th>\n",
       "      <th>X0</th>\n",
       "      <th>X1</th>\n",
       "      <th>X2</th>\n",
       "      <th>X3</th>\n",
       "      <th>X5</th>\n",
       "      <th>X6</th>\n",
       "      <th>X8</th>\n",
       "      <th>0</th>\n",
       "      <th>1</th>\n",
       "      <th>2</th>\n",
       "      <th>...</th>\n",
       "      <th>70</th>\n",
       "      <th>71</th>\n",
       "      <th>72</th>\n",
       "      <th>73</th>\n",
       "      <th>74</th>\n",
       "      <th>75</th>\n",
       "      <th>76</th>\n",
       "      <th>77</th>\n",
       "      <th>78</th>\n",
       "      <th>79</th>\n",
       "    </tr>\n",
       "  </thead>\n",
       "  <tbody>\n",
       "    <tr>\n",
       "      <th>0</th>\n",
       "      <td>37</td>\n",
       "      <td>23</td>\n",
       "      <td>20</td>\n",
       "      <td>0</td>\n",
       "      <td>27</td>\n",
       "      <td>9</td>\n",
       "      <td>14</td>\n",
       "      <td>0.748303</td>\n",
       "      <td>2.225544</td>\n",
       "      <td>1.069468</td>\n",
       "      <td>...</td>\n",
       "      <td>0.295662</td>\n",
       "      <td>0.344083</td>\n",
       "      <td>-0.501806</td>\n",
       "      <td>-0.230781</td>\n",
       "      <td>-0.818239</td>\n",
       "      <td>0.023862</td>\n",
       "      <td>0.025672</td>\n",
       "      <td>-0.038362</td>\n",
       "      <td>-0.733811</td>\n",
       "      <td>0.428233</td>\n",
       "    </tr>\n",
       "    <tr>\n",
       "      <th>1</th>\n",
       "      <td>37</td>\n",
       "      <td>21</td>\n",
       "      <td>22</td>\n",
       "      <td>4</td>\n",
       "      <td>31</td>\n",
       "      <td>11</td>\n",
       "      <td>14</td>\n",
       "      <td>-0.215018</td>\n",
       "      <td>1.123640</td>\n",
       "      <td>-0.804340</td>\n",
       "      <td>...</td>\n",
       "      <td>-0.082287</td>\n",
       "      <td>0.073708</td>\n",
       "      <td>0.071822</td>\n",
       "      <td>-0.031251</td>\n",
       "      <td>-0.158863</td>\n",
       "      <td>-0.402291</td>\n",
       "      <td>0.294736</td>\n",
       "      <td>-0.315835</td>\n",
       "      <td>-0.023042</td>\n",
       "      <td>-0.093719</td>\n",
       "    </tr>\n",
       "    <tr>\n",
       "      <th>2</th>\n",
       "      <td>24</td>\n",
       "      <td>24</td>\n",
       "      <td>38</td>\n",
       "      <td>2</td>\n",
       "      <td>30</td>\n",
       "      <td>9</td>\n",
       "      <td>23</td>\n",
       "      <td>-0.889926</td>\n",
       "      <td>2.968840</td>\n",
       "      <td>0.346040</td>\n",
       "      <td>...</td>\n",
       "      <td>-0.839913</td>\n",
       "      <td>-0.146996</td>\n",
       "      <td>0.149158</td>\n",
       "      <td>-0.159164</td>\n",
       "      <td>0.499692</td>\n",
       "      <td>0.326576</td>\n",
       "      <td>-0.235200</td>\n",
       "      <td>0.089912</td>\n",
       "      <td>-0.010811</td>\n",
       "      <td>0.550995</td>\n",
       "    </tr>\n",
       "    <tr>\n",
       "      <th>3</th>\n",
       "      <td>24</td>\n",
       "      <td>21</td>\n",
       "      <td>38</td>\n",
       "      <td>5</td>\n",
       "      <td>30</td>\n",
       "      <td>11</td>\n",
       "      <td>4</td>\n",
       "      <td>-0.509467</td>\n",
       "      <td>2.459552</td>\n",
       "      <td>-0.577491</td>\n",
       "      <td>...</td>\n",
       "      <td>-0.027307</td>\n",
       "      <td>0.325681</td>\n",
       "      <td>-0.172717</td>\n",
       "      <td>-0.284978</td>\n",
       "      <td>-0.044824</td>\n",
       "      <td>0.260994</td>\n",
       "      <td>-0.061643</td>\n",
       "      <td>-0.062056</td>\n",
       "      <td>-0.027888</td>\n",
       "      <td>0.158425</td>\n",
       "    </tr>\n",
       "    <tr>\n",
       "      <th>4</th>\n",
       "      <td>24</td>\n",
       "      <td>23</td>\n",
       "      <td>38</td>\n",
       "      <td>5</td>\n",
       "      <td>14</td>\n",
       "      <td>3</td>\n",
       "      <td>13</td>\n",
       "      <td>-0.487675</td>\n",
       "      <td>2.251643</td>\n",
       "      <td>-0.724819</td>\n",
       "      <td>...</td>\n",
       "      <td>0.085338</td>\n",
       "      <td>0.157232</td>\n",
       "      <td>-0.005912</td>\n",
       "      <td>-0.109070</td>\n",
       "      <td>0.056557</td>\n",
       "      <td>0.096590</td>\n",
       "      <td>-0.280828</td>\n",
       "      <td>-0.047896</td>\n",
       "      <td>0.056926</td>\n",
       "      <td>0.087448</td>\n",
       "    </tr>\n",
       "    <tr>\n",
       "      <th>...</th>\n",
       "      <td>...</td>\n",
       "      <td>...</td>\n",
       "      <td>...</td>\n",
       "      <td>...</td>\n",
       "      <td>...</td>\n",
       "      <td>...</td>\n",
       "      <td>...</td>\n",
       "      <td>...</td>\n",
       "      <td>...</td>\n",
       "      <td>...</td>\n",
       "      <td>...</td>\n",
       "      <td>...</td>\n",
       "      <td>...</td>\n",
       "      <td>...</td>\n",
       "      <td>...</td>\n",
       "      <td>...</td>\n",
       "      <td>...</td>\n",
       "      <td>...</td>\n",
       "      <td>...</td>\n",
       "      <td>...</td>\n",
       "      <td>...</td>\n",
       "    </tr>\n",
       "    <tr>\n",
       "      <th>4203</th>\n",
       "      <td>10</td>\n",
       "      <td>20</td>\n",
       "      <td>19</td>\n",
       "      <td>2</td>\n",
       "      <td>1</td>\n",
       "      <td>3</td>\n",
       "      <td>16</td>\n",
       "      <td>-2.219221</td>\n",
       "      <td>0.344467</td>\n",
       "      <td>1.417301</td>\n",
       "      <td>...</td>\n",
       "      <td>0.593169</td>\n",
       "      <td>0.199120</td>\n",
       "      <td>-0.321160</td>\n",
       "      <td>0.299612</td>\n",
       "      <td>0.456380</td>\n",
       "      <td>-0.216806</td>\n",
       "      <td>0.054818</td>\n",
       "      <td>0.234335</td>\n",
       "      <td>-0.243023</td>\n",
       "      <td>0.091368</td>\n",
       "    </tr>\n",
       "    <tr>\n",
       "      <th>4204</th>\n",
       "      <td>36</td>\n",
       "      <td>16</td>\n",
       "      <td>44</td>\n",
       "      <td>3</td>\n",
       "      <td>1</td>\n",
       "      <td>7</td>\n",
       "      <td>7</td>\n",
       "      <td>0.945460</td>\n",
       "      <td>0.266796</td>\n",
       "      <td>0.060592</td>\n",
       "      <td>...</td>\n",
       "      <td>-0.257071</td>\n",
       "      <td>-0.616947</td>\n",
       "      <td>-0.018593</td>\n",
       "      <td>-0.189936</td>\n",
       "      <td>-0.395934</td>\n",
       "      <td>-0.226252</td>\n",
       "      <td>0.024924</td>\n",
       "      <td>0.075539</td>\n",
       "      <td>-0.110013</td>\n",
       "      <td>0.099193</td>\n",
       "    </tr>\n",
       "    <tr>\n",
       "      <th>4205</th>\n",
       "      <td>10</td>\n",
       "      <td>23</td>\n",
       "      <td>42</td>\n",
       "      <td>0</td>\n",
       "      <td>1</td>\n",
       "      <td>6</td>\n",
       "      <td>4</td>\n",
       "      <td>-1.082320</td>\n",
       "      <td>1.073833</td>\n",
       "      <td>1.358807</td>\n",
       "      <td>...</td>\n",
       "      <td>-0.070127</td>\n",
       "      <td>0.060295</td>\n",
       "      <td>0.035967</td>\n",
       "      <td>0.039349</td>\n",
       "      <td>-0.051747</td>\n",
       "      <td>0.010203</td>\n",
       "      <td>-0.021506</td>\n",
       "      <td>0.077327</td>\n",
       "      <td>-0.013514</td>\n",
       "      <td>-0.017039</td>\n",
       "    </tr>\n",
       "    <tr>\n",
       "      <th>4206</th>\n",
       "      <td>11</td>\n",
       "      <td>19</td>\n",
       "      <td>29</td>\n",
       "      <td>5</td>\n",
       "      <td>1</td>\n",
       "      <td>11</td>\n",
       "      <td>20</td>\n",
       "      <td>0.449483</td>\n",
       "      <td>-0.624661</td>\n",
       "      <td>-2.964235</td>\n",
       "      <td>...</td>\n",
       "      <td>-0.046993</td>\n",
       "      <td>-0.281744</td>\n",
       "      <td>-0.022248</td>\n",
       "      <td>0.128552</td>\n",
       "      <td>0.021408</td>\n",
       "      <td>0.082407</td>\n",
       "      <td>0.014833</td>\n",
       "      <td>-0.521000</td>\n",
       "      <td>0.071975</td>\n",
       "      <td>-0.298743</td>\n",
       "    </tr>\n",
       "    <tr>\n",
       "      <th>4207</th>\n",
       "      <td>52</td>\n",
       "      <td>19</td>\n",
       "      <td>5</td>\n",
       "      <td>2</td>\n",
       "      <td>1</td>\n",
       "      <td>6</td>\n",
       "      <td>22</td>\n",
       "      <td>0.816985</td>\n",
       "      <td>0.233402</td>\n",
       "      <td>-1.343487</td>\n",
       "      <td>...</td>\n",
       "      <td>0.003507</td>\n",
       "      <td>-0.056585</td>\n",
       "      <td>0.061663</td>\n",
       "      <td>-0.110112</td>\n",
       "      <td>-0.056671</td>\n",
       "      <td>-0.260264</td>\n",
       "      <td>0.000546</td>\n",
       "      <td>0.225158</td>\n",
       "      <td>0.169061</td>\n",
       "      <td>-0.118021</td>\n",
       "    </tr>\n",
       "  </tbody>\n",
       "</table>\n",
       "<p>4208 rows × 87 columns</p>\n",
       "</div>"
      ],
      "text/plain": [
       "      X0  X1  X2  X3  X5  X6  X8         0         1         2  ...        70  \\\n",
       "0     37  23  20   0  27   9  14  0.748303  2.225544  1.069468  ...  0.295662   \n",
       "1     37  21  22   4  31  11  14 -0.215018  1.123640 -0.804340  ... -0.082287   \n",
       "2     24  24  38   2  30   9  23 -0.889926  2.968840  0.346040  ... -0.839913   \n",
       "3     24  21  38   5  30  11   4 -0.509467  2.459552 -0.577491  ... -0.027307   \n",
       "4     24  23  38   5  14   3  13 -0.487675  2.251643 -0.724819  ...  0.085338   \n",
       "...   ..  ..  ..  ..  ..  ..  ..       ...       ...       ...  ...       ...   \n",
       "4203  10  20  19   2   1   3  16 -2.219221  0.344467  1.417301  ...  0.593169   \n",
       "4204  36  16  44   3   1   7   7  0.945460  0.266796  0.060592  ... -0.257071   \n",
       "4205  10  23  42   0   1   6   4 -1.082320  1.073833  1.358807  ... -0.070127   \n",
       "4206  11  19  29   5   1  11  20  0.449483 -0.624661 -2.964235  ... -0.046993   \n",
       "4207  52  19   5   2   1   6  22  0.816985  0.233402 -1.343487  ...  0.003507   \n",
       "\n",
       "            71        72        73        74        75        76        77  \\\n",
       "0     0.344083 -0.501806 -0.230781 -0.818239  0.023862  0.025672 -0.038362   \n",
       "1     0.073708  0.071822 -0.031251 -0.158863 -0.402291  0.294736 -0.315835   \n",
       "2    -0.146996  0.149158 -0.159164  0.499692  0.326576 -0.235200  0.089912   \n",
       "3     0.325681 -0.172717 -0.284978 -0.044824  0.260994 -0.061643 -0.062056   \n",
       "4     0.157232 -0.005912 -0.109070  0.056557  0.096590 -0.280828 -0.047896   \n",
       "...        ...       ...       ...       ...       ...       ...       ...   \n",
       "4203  0.199120 -0.321160  0.299612  0.456380 -0.216806  0.054818  0.234335   \n",
       "4204 -0.616947 -0.018593 -0.189936 -0.395934 -0.226252  0.024924  0.075539   \n",
       "4205  0.060295  0.035967  0.039349 -0.051747  0.010203 -0.021506  0.077327   \n",
       "4206 -0.281744 -0.022248  0.128552  0.021408  0.082407  0.014833 -0.521000   \n",
       "4207 -0.056585  0.061663 -0.110112 -0.056671 -0.260264  0.000546  0.225158   \n",
       "\n",
       "            78        79  \n",
       "0    -0.733811  0.428233  \n",
       "1    -0.023042 -0.093719  \n",
       "2    -0.010811  0.550995  \n",
       "3    -0.027888  0.158425  \n",
       "4     0.056926  0.087448  \n",
       "...        ...       ...  \n",
       "4203 -0.243023  0.091368  \n",
       "4204 -0.110013  0.099193  \n",
       "4205 -0.013514 -0.017039  \n",
       "4206  0.071975 -0.298743  \n",
       "4207  0.169061 -0.118021  \n",
       "\n",
       "[4208 rows x 87 columns]"
      ]
     },
     "execution_count": 288,
     "metadata": {},
     "output_type": "execute_result"
    }
   ],
   "source": [
    "train_pca"
   ]
  },
  {
   "cell_type": "code",
   "execution_count": 224,
   "id": "dfc1ea87",
   "metadata": {},
   "outputs": [],
   "source": [
    "from sklearn.model_selection import GridSearchCV\n",
    "# Create the parameter grid based on the results of random search \n",
    "param_grid = {\n",
    "    'bootstrap': [True],\n",
    "    'max_depth': [int(x) for x in np.linspace(1, 10, num = 5)],\n",
    "    'max_features': ['auto', 'sqrt'],\n",
    "    'min_samples_leaf': [int(x) for x in np.linspace(4, 10, num = 5)],\n",
    "    'min_samples_split': [int(x) for x in np.linspace(1, 15, num = 8)],\n",
    "    'n_estimators': [int(x) for x in np.linspace(1, 100, num = 5)],\n",
    "}\n",
    "\n",
    "# Create a based model\n",
    "rf = RandomForestRegressor()\n",
    "# Instantiate the grid search model\n",
    "grid_search = GridSearchCV(estimator = rf, param_grid = param_grid, \n",
    "                          cv = 4, n_jobs = -1, verbose = 1,\n",
    "                          scoring='r2')"
   ]
  },
  {
   "cell_type": "code",
   "execution_count": 225,
   "id": "3d2e57dc",
   "metadata": {},
   "outputs": [
    {
     "data": {
      "text/plain": [
       "(4208,)"
      ]
     },
     "execution_count": 225,
     "metadata": {},
     "output_type": "execute_result"
    }
   ],
   "source": [
    "y.shape"
   ]
  },
  {
   "cell_type": "code",
   "execution_count": 226,
   "id": "f193aa3d",
   "metadata": {},
   "outputs": [
    {
     "name": "stdout",
     "output_type": "stream",
     "text": [
      "Fitting 4 folds for each of 2000 candidates, totalling 8000 fits\n"
     ]
    },
    {
     "data": {
      "text/plain": [
       "{'bootstrap': True,\n",
       " 'max_depth': 10,\n",
       " 'max_features': 'auto',\n",
       " 'min_samples_leaf': 5,\n",
       " 'min_samples_split': 7,\n",
       " 'n_estimators': 75}"
      ]
     },
     "execution_count": 226,
     "metadata": {},
     "output_type": "execute_result"
    }
   ],
   "source": [
    "# Fit the grid search to the data\n",
    "grid_search.fit(train_pca, y)\n",
    "grid_search.best_params_"
   ]
  },
  {
   "cell_type": "code",
   "execution_count": 227,
   "id": "0b6b1db1",
   "metadata": {},
   "outputs": [
    {
     "data": {
      "text/plain": [
       "0.5271490836098263"
      ]
     },
     "execution_count": 227,
     "metadata": {},
     "output_type": "execute_result"
    }
   ],
   "source": [
    "grid_search.best_score_"
   ]
  },
  {
   "cell_type": "code",
   "execution_count": 234,
   "id": "5965db02",
   "metadata": {},
   "outputs": [
    {
     "data": {
      "text/plain": [
       "RandomForestRegressor(max_depth=10, min_samples_leaf=5, min_samples_split=7,\n",
       "                      n_estimators=75)"
      ]
     },
     "execution_count": 234,
     "metadata": {},
     "output_type": "execute_result"
    }
   ],
   "source": [
    "grid_search.best_estimator_"
   ]
  },
  {
   "cell_type": "code",
   "execution_count": 289,
   "id": "c3db23f5",
   "metadata": {},
   "outputs": [
    {
     "name": "stdout",
     "output_type": "stream",
     "text": [
      "mae: 5.865945431191034\n",
      "r2: 0.5234064174040343\n"
     ]
    }
   ],
   "source": [
    "rf =RandomForestRegressor(max_depth=10, min_samples_leaf=5, min_samples_split=7,\n",
    "                      n_estimators=75)\n",
    "                           \n",
    "# evaluate model\n",
    "\n",
    "cv = KFold(n_splits=10, shuffle=True, random_state=42)\n",
    "                           \n",
    "rf_scores = cross_validate(rf, train_pca, y,\n",
    "                           scoring=['neg_mean_absolute_error','r2'],\n",
    "                           cv=5, n_jobs=-1, return_estimator=True)\n",
    "\n",
    "rf_base_mae = abs(rf_scores['test_neg_mean_absolute_error'].mean())\n",
    "rf_base_r2 = rf_scores['test_r2'].mean()\n",
    "\n",
    "print('mae:',rf_base_mae)\n",
    "print('r2:',rf_base_r2)"
   ]
  },
  {
   "cell_type": "markdown",
   "id": "1c164fdc",
   "metadata": {},
   "source": [
    "GradientBoostingRegressor"
   ]
  },
  {
   "cell_type": "code",
   "execution_count": 294,
   "id": "b32710cd",
   "metadata": {},
   "outputs": [],
   "source": [
    "from sklearn.ensemble import GradientBoostingRegressor\n",
    "gb = GradientBoostingRegressor(loss='squared_error',\n",
    "    learning_rate=0.005,\n",
    "    n_estimators=50,\n",
    "    subsample=1.0,\n",
    "    criterion='r2',\n",
    "    min_samples_split=2,\n",
    "    min_samples_leaf=1,\n",
    "    min_weight_fraction_leaf=0.0,\n",
    "    max_depth=5,\n",
    "    min_impurity_decrease=0.0,\n",
    "    init=None,\n",
    "    random_state=None,\n",
    "    max_features=None,\n",
    "    alpha=0.9,\n",
    "    verbose=0,\n",
    "    max_leaf_nodes=None,\n",
    "    warm_start=False,\n",
    "    validation_fraction=0.1,\n",
    "    n_iter_no_change=None,\n",
    "    tol=0.0001,\n",
    "    ccp_alpha=0.0,\n",
    ")"
   ]
  },
  {
   "cell_type": "code",
   "execution_count": 297,
   "id": "729ca5c6",
   "metadata": {},
   "outputs": [
    {
     "name": "stdout",
     "output_type": "stream",
     "text": [
      "mae: 5.865945431191034\n",
      "r2: 0.5234064174040343\n"
     ]
    }
   ],
   "source": [
    "cv = KFold(n_splits=10, shuffle=True, random_state=42)\n",
    "                           \n",
    "gb_scores = cross_validate(gb, train_pca, y,\n",
    "                           scoring=['neg_mean_absolute_error','r2'],\n",
    "                           cv=5, n_jobs=-1, return_estimator=True)\n",
    "\n",
    "gb_base_mae = abs(gb_scores['test_neg_mean_absolute_error'].mean())\n",
    "gb_base_r2 = gb_scores['test_r2'].mean()\n",
    "\n",
    "print('mae:',gb_base_mae)\n",
    "print('r2:',gb_base_r2)"
   ]
  },
  {
   "cell_type": "markdown",
   "id": "c3fdd2fb",
   "metadata": {},
   "source": [
    "Decision Tree regressor"
   ]
  },
  {
   "cell_type": "code",
   "execution_count": 296,
   "id": "3113df94",
   "metadata": {},
   "outputs": [
    {
     "name": "stdout",
     "output_type": "stream",
     "text": [
      "mae: 8.211291439924508\n",
      "r2: 0.04381989459768878\n"
     ]
    }
   ],
   "source": [
    "from sklearn.tree import DecisionTreeRegressor\n",
    "\n",
    "dt = DecisionTreeRegressor()\n",
    "\n",
    "cv = KFold(n_splits=10, shuffle=True, random_state=42)\n",
    "                           \n",
    "dt_scores = cross_validate(dt, train_pca, y,\n",
    "                           scoring=['neg_mean_absolute_error','r2'],\n",
    "                           cv=5, n_jobs=-1, return_estimator=True)\n",
    "\n",
    "dt_base_mae = abs(dt_scores['test_neg_mean_absolute_error'].mean())\n",
    "dt_base_r2 = dt_scores['test_r2'].mean()\n",
    "\n",
    "print('mae:',dt_base_mae)\n",
    "print('r2:',dt_base_r2)"
   ]
  },
  {
   "cell_type": "markdown",
   "id": "fc0069ad",
   "metadata": {},
   "source": [
    "## Conclusion:\n",
    "\n",
    "#### We tried different techinique seems like the RandomForest selected 15 features is better than other it gave me Private score of 0.54815 and Public score of 0.55468\n",
    "#### PCA Didnt gave results as expected \n",
    "#### We tried different approach to select best paramaters by using Hyperparameter optimizations like GridSearchcv and RandomSearchCV"
   ]
  },
  {
   "cell_type": "code",
   "execution_count": null,
   "id": "9e1f284e",
   "metadata": {},
   "outputs": [],
   "source": []
  }
 ],
 "metadata": {
  "kernelspec": {
   "display_name": "Python 3 (ipykernel)",
   "language": "python",
   "name": "python3"
  },
  "language_info": {
   "codemirror_mode": {
    "name": "ipython",
    "version": 3
   },
   "file_extension": ".py",
   "mimetype": "text/x-python",
   "name": "python",
   "nbconvert_exporter": "python",
   "pygments_lexer": "ipython3",
   "version": "3.9.7"
  }
 },
 "nbformat": 4,
 "nbformat_minor": 5
}
